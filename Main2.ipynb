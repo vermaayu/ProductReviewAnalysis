{
 "cells": [
  {
   "cell_type": "code",
   "execution_count": 3,
   "metadata": {},
   "outputs": [
    {
     "name": "stdout",
     "output_type": "stream",
     "text": [
      "['\"good case, excellent value.\",1\\n', 'great for the jawbone.,1\\n', 'tied to charger for conversations lasting more than 45 minutes.major problems!!,0\\n', 'the mic is great.,1\\n', 'i have to jiggle the plug to get it to line up right to get decent volume.,1\\n', '\"if you have several dozen or several hundred contacts, then imagine the fun of sending each of them one by one.\",1\\n', '\"needless to say, i wasted my money.\",0\\n', 'what a waste of money and time!.,0\\n', 'and the sound quality is great.,1\\n', 'he was very impressed when going from the original battery to the extended battery.,1\\n', 'if the two were seperated by a mere 5+ ft i started to notice excessive static and garbled sound from the headset.,0\\n', 'very good quality though,1\\n', '\"the design is very odd, as the ear \"\"clip\"\" is not very comfortable at all.\",0\\n', 'highly recommend for any one who has a blue tooth phone.,1\\n', 'i advise everyone do not be fooled!,0\\n', 'so far so good!.,1\\n', 'works great!.,1\\n', 'it clicks into place in a way that makes you wonder how long that mechanism would last.,1\\n', '\"i went on motorola\\'s website and followed all directions, but could not get it to pair again.\",0\\n', 'i bought this to use with my kindle fire and absolutely loved it!,1\\n', 'the commercials are the most misleading.,0\\n', 'i bought it for my mother and she had a problem with the battery.,0\\n', 'great pocket pc / phone combination.,1\\n', \"i've owned this phone for 7 months now and can say that it's the best mobile phone i've had.,1\\n\", \"i didn't think that the instructions provided were helpful to me.,1\\n\", 'this product is ideal for people like me whose ears are very sensitive.,1\\n', 'it is unusable in a moving car at freeway speed.,0\\n', 'i have two more years left in this contract and i hate this phone.,0\\n', 'car charger as well as ac charger are included to make sure you never run out of juice.highy recommended,1\\n', 'it has kept up very well.,1\\n', 'poor talk time performance.,0\\n', 'the case is great and works fine with the 68    .,1\\n', 'worthless product.,0\\n', '\"it has a great camera thats 2mp, and the pics are nice and clear with great picture quality.\",1\\n', 'i was not impressed by this product.,0\\n', 'nice headset priced right.,1\\n', 'i only hear garbage for audio.,0\\n', 'excellent bluetooth headset.,1\\n', 'who in their right mind is gonna buy this battery?.,1\\n', 'this case seems well made.,1\\n', 'disappointed with battery.,0\\n', \"not loud enough and doesn't turn on like it should.,0\\n\", 'good protection and does not make phone too bulky.,0\\n', 'a usable keyboard actually turns a pda into a real-world useful machine instead of just a neat gadget.,1\\n', \"this phone is pretty sturdy and i've never had any large problems with it.,1\\n\", 'i love this thing!,1\\n', 'everything about it is fine and reasonable for the price i.e.,1\\n', 'very disappointed.,0\\n', 'i even dropped this phone into a stream and it was submerged for    5 seconds and it still works great!,1\\n', 'i have been very happy with the 5        and have had no complaints from any one regarding my sound quality on their end.,0\\n', 'the buttons for on and off are bad.,0\\n', \"essentially you can forget microsoft's tech support.,1\\n\", '\"i really recommend this faceplates since it looks very nice, elegant and cool.\",1\\n', \"these headphones were a great find - and i think they are perhaps the best purchase i've made in the last several years - seriously.,1\\n\", 'buy a different phone - but not this.,0\\n', 'you have to hold the phone at a particular angle for the other party to hear you clearly.,1\\n', \"the one big drawback of the mp3 player is that the buttons on the phone's front cover that let you pause and skip songs lock out after a few seconds.,0\\n\", '\"a week later after i activated it, it suddenly died.\",0\\n', 'it feels more comfortable than most headsets because i wear glasses and that gets in the way sometimes.,1\\n', 'great for ipods too.,1\\n', 'this device is great in several situations:   .),1\\n', \"mic doesn't work.,1\\n\", '\"even in my bmw 3 series which is fairly quiet, i have trouble hearing what the other person is saying.\",1\\n', 'great choice!,1\\n', 'nice docking station for home or work.,1\\n', 'this is a beautiful phone.,1\\n', 'love this product.,1\\n', 'do not buy for d8    7...wrongly advertised for d8    7.,0\\n', 'this is a great little item.,1\\n', '\"i love this phone , it is very handy and has a lot of features .\",1\\n', 'i wear it everyday and it holds up very well.,1\\n', 'not a good bargain.,1\\n', '\"well packaged, arrived on time, and works as intended.\",1\\n', '\"this item worked great, but it broke after 6 months of use.\",1\\n', 'the headsets are easy to use and everyone loves them.,1\\n', 'this phone works great.,1\\n', 'the construction of the headsets is poor.,0\\n', 'product was excellent and works better than the verizon one and boy was it cheaper!,1\\n', 'the phone loads super!,1\\n', '\"for a product that costs as much as this one does, i expect it to work far better and with greater ease than this thing does.\",1\\n', 'made very sturdy.,1\\n', 'worked great!.,1\\n', 'dont waste your money...,0\\n', \"best i've found so far .... i've tried 2 other bluetooths and this one has the best quality (for both me and the listener) as well as ease of using.,1\\n\", \"i'm very disappointed with my decision.,0\\n\", 'integrated seamlessly with the motorola razr phone.,1\\n', '\"buyer beware, you could flush money right down the toilet.\",0\\n', 'definitely a bargain.,1\\n', 'the price was very good and with the free shipping and all it was a good purchase.,1\\n', 'i received my supposedly new motorola 375 and apparently there was not a match between the phone and the charger.,0\\n', '\"pros:-good camera - very nice pictures , also has cool styles like black and white, and more.\",1\\n', '\"that\\'s a huge design flaw (unless i\\'m not using it correctly, which i don\\'t think is the case).\",0\\n', '\"i love my 35     headset.. my jabra35     bluetooth headset is great, the reception is very good and the ear piece is a comfortable fit.\",1\\n', '\"the camera, although rated at an impressive    .3 megapixels, renders images that fall well below expectations of such a relatively high resolution.\",1\\n', 'i purcashed this for the car charger and it does not work.,0\\n', '\"sound quality on both end is excellent, i use headset to call my wife and ask my wife to use headset to call me !2.\",1\\n', 'this phone is slim and light and the display is beautiful.,1\\n', 'its a little geeky but i think thats its sex on toast and it rocks and oozes sex right down to its battery embedded sleek stylish leather case.,1\\n', '\"great product, fast shipping!.\",1\\n', 'absolutely great.,1\\n', 'the keyboard is a nice compromise between a full qwerty and the basic cell phone number keypad.,1\\n', \"i got this phone around the end of may and i'm completely unhappy with it.,0\\n\", 'it is very comfortable on the ear.,1\\n', 'it has been a winner for us.,1\\n', \")setup couldn't have been simpler.,1\\n\", \"i've tried several different earpieces for my cell phone and this jabra one is the first one i've found that fits my ear comfortably.,1\\n\", 'could not get strong enough signal.,1\\n', 'iam very pleased with my purchase.,1\\n', 'bad quality.,0\\n', 'great audio!.,1\\n', 'basically the service was very bad.,0\\n', 'it did not work in my cell phone plug i am very up set with the charger!.,0\\n', '\"i\\'ve only had my bluetooth for a few weeks, but i really like it.\",1\\n', 'the accompanied software is almost brilliant.,1\\n', 'headset works great & was packaged nicely to avoid any damage.,1\\n', '!i definitly recommend!!,1\\n', 'the majority of the logitech earbud headsets failed.,0\\n', 'very good stuff for the price.,1\\n', 'my headset works just peachy-keen.,1\\n', 'what a waste.,0\\n', 'i was not happy with this item.,0\\n', 'very disappointed.,0\\n', 'the phone takes forever to charge like 2 to 5 hours literally.,1\\n', \"i got this phone on reccomendation from a relative and i'm glad i did.,1\\n\", 'what a waste of time!,0\\n', 'its reception is very very poor.,0\\n', 'items stated as included from the description are not included.,0\\n', '\"audio quality is poor, very poor.\",0\\n', 'i had absolutely no problem with this headset linking to my 853     blackberry curve!,0\\n', '\"i know that sounds funny, but to me it seemed like sketchy technology that wouldn\\'t work well.well, this one works great.\",1\\n', \"i've bought $5 wired headphones that sound better than these.,1\\n\", 'this phone is very fast with sending any kind of messages and web browsing is significantly faster than previous phones i have used.,1\\n', '\"nice quality build, unlike some cheap s*** out there.\",0\\n', 'this item is fantastic and works perfectly!,1\\n', 'and i just love the colors!,1\\n', 'w8       i is just superb.,1\\n', '\"all i can do is whine on the internet, so here it goes.the more i use the thing the less i like it.\",0\\n', 'great charger.,1\\n', 'this is essentially a communications tool that does not communicate.,0\\n', 'works like a charm; it work the same as the one i got with the phone.,1\\n', '\"i still maintain that monkeys shouldn\\'t make headphones, we just obviously don\\'t share enough dna to copy the design over to humans.\",1\\n', 'great value.,1\\n', \"doesn't work at all.. i bougth it for my l7c and its not working.,0\\n\", '\"the look of it is very sharp and the screen is nice and clear, with great graphics.\",1\\n', 'one thing i hate is the mode set button at the side.,0\\n', 'excellent service!!!!!!!!.,1\\n', 'thank you for wasting my money.,0\\n', 'how can that be?the audio quality is poor.,0\\n', 'the igo chargers and tips are really great.,1\\n', 'the file browser offers all the options that one needs.handsfree is great.,1\\n', 'superb phone on a great network.,1\\n', '\"i connected my wife\\'s bluetooth,(motorola hs85    ) to my phone and it worked like a charm whether the phone was in my pocket or the case.\",1\\n', '\"i put the latest os on it (v   .   5g), and it now likes to slow to a crawl and lock up every once in a while.\",0\\n', '\"if you like a loud buzzing to override all your conversations, then this phone is for you!\",0\\n', \"i've had this bluetoooth headset for some time now and still not comfortable with the way it fits on the ear.,0\\n\", 'the sound quality is good and functionality is awesome.,1\\n', 'i recently had problems where i could not stay connected for more than         minutes before being disconnected.,0\\n', 'incredible!.,1\\n', 'design flaw?.,0\\n', 'great phone!.,1\\n', 'waste of    3 bucks.,0\\n', '\"but when i check voice mail at night, the keypad backlight turns off a few seconds into the first message, and then i\\'m lost.\",0\\n', 'the replacement died in a few weeks.,0\\n', 'any ring tone..overall good phone to buy..,1\\n', 'lately they have been extremely nice and helpful on the phone.,1\\n', 'i have had problems wit hit dropping signal and more.,0\\n', 'not impressed.,0\\n', \"you'll love how thin it is.,1\\n\", 'bad choice.,0\\n', '\"useless phone, simply deaf.\",0\\n', '\"the color is even prettier than i thought it would be, and the graphics are incredibly sharp.\",1\\n', 'all in all i think it was a good investment.,1\\n', 'it makes very strange ticking noises before it ends the call.,0\\n', 'the best electronics of the available fm transmitters.,1\\n', '\"great headset, very impressed - h5        .\",1\\n', '\"the \"\"   .2\"\" mega pixel camera, being a part of a phone, is reasonably good7.\",1\\n', \"i've had this for nearly 2 years and it has worked great for me.,1\\n\", 'good transmit audio.,1\\n', 'i did not bother contacting the company for few dollar product but i learned the lesson that i should not have bought this form online anyway.,0\\n', '\"if you hate earbugs, avoid this phone by all means.\",0\\n', 'great price also!,1\\n', '\"the range is very decent, i\\'ve been able to roam around my house with the phone in the living room with no reception/sound quality issues.\",0\\n', 'fast service.,1\\n', 'i would highly recommend this.,1\\n', 'i would recommend this.,1\\n', '\"i also didn\\'t like the \"\"on\"\" button, it felt like it would crack with use.\",0\\n', 'worst phone ever.,0\\n', 'freezes frequently4.,0\\n', \"it's kind of embarrassing to use because of how it looks and mostly it's embarrassing how child-like the company is.,0\\n\", '\"simple, lightweight and great fit.\",1\\n', '\"all in all, i\\'d expected a better consumer experience from motorola.\",1\\n', \"there's a horrible tick sound in the background on all my calls that i have never experienced before.,0\\n\", 'these are certainly very comfortable and functionality is decent.,1\\n', \"i usually don't like headbands but this one is very lightweight & doesn't mess up my hair.,0\\n\", \"i'm a bit disappointed.,0\\n\", '\"i have had this phone for over a year now, and i will tell you, its not that great.\",0\\n', 'i ordered this for sony ericsson w8       i but i think it only worked once (thats when i first used it).,1\\n', 'the battery is completely useless to me.,0\\n', 'what a big waste of time.,0\\n', \"don't waste your $$$ on this one.,0\\n\", 'great sound and service.,1\\n', 'really pleased with this product so far.,1\\n', 'one of my favorite purchases ever.,1\\n', 'best bluetooth on the market.,1\\n', 'authentic leather with nice shine and comfort .i recommend you this case !!,1\\n', 'i was very excited to get this headset because i thought it was really cute.,1\\n', 'do not make the same mistake as me.,0\\n', 'big disappointment with calendar sync.,0\\n', 'the phone was unusable and was not new.,0\\n', 'worst customer service ever.,0\\n', 'it defeats the purpose of a bluetooth headset.,1\\n', 'worth every penny.,1\\n', 'excellent wallet type phone case.,1\\n', 'nice headphones for the price and they work great!,1\\n', 'internet is excrutiatingly slow.,0\\n', '\"it is very comfortable to wear as well, which is probably the most important aspect about using a case.\",1\\n', '\"it\\'s fits like a glove and is strong, secure, and durable.\",1\\n', 'o my gosh the best phone i have ever had.,1\\n', \"it's very attractive and appears to be of good quality.,1\\n\", 'i love all the features and form factor.,1\\n', 'this product had a strong rubber/petroleum smell that was unbearable after a while and caused me to return it,0\\n', 'poor quality and service.,0\\n', '\"the cable looks so thin and flimsy, it is scary.\",0\\n', 'great earpiece.,1\\n', 'excellent hands free tool.,1\\n', 'great for using with your home stereo.,1\\n', 'good product - incredible value.,1\\n', \"only had this a month but it's worked flawlessly so far.,1\\n\", 'works great.,1\\n', 'absolutel junk.,0\\n', \"that one didn't work either.,1\\n\", 'battery life is real good.,1\\n', \"it's a great item.,1\\n\", \"don't waste your money!.,0\\n\", 'love this headset!,1\\n', '\"not only will it drain your player, but may also potentially fry it.\",0\\n', 'worked perfectly!,1\\n', \"unreliable - i'm giving up.,0\\n\", 'reversible plug works great.,1\\n', 'i wasted my little money with this earpiece.,0\\n', 'very good phone.,1\\n', '\"best of all is the rotating feature, very helpful.\",1\\n', 'comfort for our whole family.,1\\n', '\"good product, good seller.\",1\\n', 'i love this bluetooth!,1\\n', '\"first of all, it doesn\\'t wear well.\",1\\n', 'i am very impressed with this headset from plantronics.,1\\n', 'i got it because it was so small and adorable.,1\\n', 'great phone!.,1\\n', \"i wouldn't recommend buying this product.,1\\n\", 'piece of junk.,0\\n', 'poorly contstruct hinge.,0\\n', '\"this item is great, installed it, let it charged up overnite and it has been working good every since with no problems\",1\\n', 'great phone.,1\\n', 'excellent phone.,1\\n', 'do not purchase this phone.,0\\n', 'the voice recognition thru the handset is excellent.,1\\n', \"this is hands down the best phone i've ever had.,1\\n\", '\"works great, when my cat attacked the phone he scratched the protective strip instead of destroying the screen.\",1\\n', 'this one works and was priced right.,1\\n', 'customer service was terrible.,0\\n', 'battery life still not long enough in motorola razor v3i.,0\\n', 'now i know that i made a wise decision.,1\\n', 'good price.,1\\n', 'everything worked on the first try.the device was certainly engineered in a clever way and the construction feels good.,1\\n', 'i received it quickly and it works great!!,1\\n', 'has been working great.,1\\n', '\"as many people complained, i found this headset\\'s microphone was very weak.\",0\\n', 'my 5-year old nokia 2   6     from tracfone holds the charge a lot better than this.,1\\n', 'they do not care about the consumer one bit.,0\\n', '\"this is a good battery, and it got here really fast.\",1\\n', 'the instruction manual is lacking.,0\\n', 'also its slim enough to fit into my alarm clock docking station without removing the case.,0\\n', 'phone now holds charge like it did when it was new.,1\\n', 'the battery is unreliable as well as the service use antena.,0\\n', \"it's uncomfortable and the sound quality is quite poor compared with the phone (razr) or with my previous wired headset (that plugged into an lg).,0\\n\", 'this is definitely a must have if your state does not allow cell phone usage while driving.,0\\n', 'i love this device.,1\\n', 'i am also very happy with the price.,1\\n', 'i ordered this product first and was unhappy with it immediately.,0\\n', 'the ngage is still lacking in earbuds.,0\\n', 'i was able to do voice dialing in the car with no problem.,0\\n', '\"i have 2-3 bars on my cell phone when i am home, but you cant not hear anything.\",0\\n', '\"good item, low price.\",1\\n', '\"however-the riingtones are not the best, and neither are the games.\",0\\n', 'the plug did not work very well.,1\\n', 'amazon sucks.,0\\n', 'rip off---- over charge shipping.,0\\n', 'very comfortable.,1\\n', 'the battery is working well as a replacement for the original that came with the phone over 2 years ago.,1\\n', 'the reception is excellent!,1\\n', '\"it fits comfortably in either ear, the sound is clear and loud, and the charge lasts a couple of days.\",1\\n', '\"very clear, quality sound and you don\\'t have to mess with the sound on your ipod since you have the sound buttons on the headset.\",0\\n', 'obviously there is a problem with the adhesive.,0\\n', 'very disappointing.,0\\n', '\"it was an inexpensive piece, but i would still have expected better quality.\",1\\n', 'it is practically useless and did not add any kind of boost to my reception after i bought it.,0\\n', 'excellent sound quality.,1\\n', 'was not happy.,0\\n', 'a piece of junk that broke after being on my phone for 2 days!!!,0\\n', 'new battery works great in phone.,1\\n', 'worst customer service.,0\\n', '\"i\\'ve dropped my phone more times than i can say, even on concrete and my phone is still great (knock on wood!).\",0\\n', 'reception is terrible and full of static.,0\\n', 'good audio quality.,1\\n', 'this little device has transformed my organizational capability and made my life a whole lot easier.,1\\n', '\"i was sitting in my vehicle, with the cradle on my belt, and the headset lost signal.\",0\\n', 'works like a charm.. works as advertised.,1\\n', '\"comfortable, nice range, good battery life.\",1\\n', 'their network coverage in los angeles is horrible.,0\\n', 'excellent starter wireless headset.,1\\n', '\"the loudspeaker option is great, the bumpers with the lights is very ... appealing.\",1\\n', 'the only thing that i think could improve is the sound leaks out from the headset.,0\\n', '\"first off the reception sucks, i have never had more than 2 bars, ever.\",0\\n', 'the phone gets extremely hot!,1\\n', '\"the microphone also works well, but (according to people i have called) it applifies everything.\",1\\n', 'nice design and quality.,1\\n', '\"also, if your phone is dropped, this case is not going to save it, specially when dropped face down.\",0\\n', '\"it is light, easy to use, and has very clear reception and transmission.\",1\\n', '\"bad fit, way too big.\",0\\n', 'it definitely was not as good as my s      .,0\\n', 'awesome device.,1\\n', 'waste of money.,0\\n', '\"i had ordered a motorola data cable, got a very well finished and working product.\",1\\n', 'love this phone.,1\\n', \"i was looking for this headset for a long time and now that i've got it i couldn't be happier.,1\\n\", 'display is excellent and camera is as good as any from that year.,1\\n', 'battery life is also great!,1\\n', \"the worst phone i've ever had.... only had it for a few months.,0\\n\", 'not a good item.. it worked for a while then started having problems in my auto reverse tape player.,0\\n', 'this is so embarassing and also my ears hurt if i try to push the ear plug into my ear.,0\\n', 'this is a very average phone with bad battery life that operates on a weak network.,0\\n', '\"clear skype calls, long battery life, long range.\",1\\n', 'soyo technology sucks.,0\\n', 'great hands free device.,1\\n', '\"you can even take self portraits with the outside (exterior) display, very cool.\",1\\n', 'same problem as others have mentioned.,0\\n', 'after trying many many handsfree gadgets this is the one that finally works well.,1\\n', 'magical help.,1\\n', 'the worst piece of crap ever along with the verizon customer service.,0\\n', 'poor sound quality.,0\\n', 'the best phone in market :).,1\\n', 'it worked very well.,1\\n', 'the company shipped my product very promptly and it works well.,1\\n', 'this is a great deal.,1\\n', '\"excellent product, i am very satisfied with the purchase.\",1\\n', 'i highly recommend these and encourage people to give them a try.,1\\n', \"better than you'd expect.,1\\n\", '\"using all earpieces, left or right, this thing will not stay on my ear.\",0\\n', 'great product and price.,1\\n', '\"sounds good reasonably priced and effective, its that simple !\",1\\n', \"still waiting...... i'm sure this item would work well.. if i ever recieve it!,1\\n\", 'what a disappointment,0\\n', 'very prompt service.,1\\n', 'excellent product for the price.,1\\n', 'very pleased with this headset.,1\\n', \"don't waste your money and time.,0\\n\", 'i especially love the long battery life.,1\\n', '\"it\\'s so stupid to have to keep buying new chargers, car chargers, cradles, headphones and car kits every time a new phone comes out.\",0\\n', 'works great.,1\\n', 'plantronics bluetooth excelent buy.,1\\n', 'i came over from verizon because cingulair has nicer cell phones.... the first thing i noticed was the really bad service.,0\\n', 'i highly recommend this device to everyone!,1\\n', 'jawbone era is awesome too!,1\\n', 'we received a white colored battery that goes dead after a couple hoursthe original used to last a week - but still lasts longer than thereplacement,0\\n', 'after a year the battery went completely dead on my headset.,0\\n', '\"i have used several phone in two years, but this one is the best.\",1\\n', 'an awesome new look for fall 2            !.,0\\n', \"this is the first phone i've had that has been so cheaply made.,0\\n\", '\"att is not clear, sound is very distorted and you have to yell when you talk.\",0\\n', 'the plastic breaks really easy on this clip.,0\\n', 'price is good too.,1\\n', \"don't make the same mistake i did.,0\\n\", 'oh and i forgot to also mention the weird color effect it has on your phone.,0\\n', \"i'm using it with an iriver spinn (with case) and it fits fine.,1\\n\", \"also the area where my unit broke).- i'm not too fond of the magnetic strap.,0\\n\", '\"overall, i am psyched to have a phone which has all my appointments and contacts in and gets great reception.\",1\\n', '\"every thing on phone work perfectly, she like it.\",1\\n', '\"another note about this phone\\'s appearance is that it really looks rather bland, especially in the all black model.\",0\\n', \"it's really easy.,1\\n\", 'fantastic earphones.,1\\n', 'it finds my cell phone right away when i enter the car.,1\\n', 'i highly recommend this modest priced cellular phone.,1\\n', \"but it does get better reception and clarity than any phone i've had before.,1\\n\", 'warning - stay away.,0\\n', 'awsome device works great!!.,1\\n', 'i used to talk on it for     -        /2 hours and the battery would be literally drained and dying.,0\\n', '\"if you don\\'t find it, too bad, as again the unit comes with one earpad only.i would not recommend this to anyone.\",0\\n', 'very displeased.,0\\n', '\"i might have gotten a defect, but i would not risk buying it again because of the built quality alone.\",0\\n', 'they made this case too small and is very difficult to install.,0\\n', 'restored my phone to like new performance.,1\\n', '\"i would recommend purchasing the jabra jx-        series 2 which works flawlessly with my moto q, go figure.\",1\\n', '\"i searched the internet, and found this one to be the best value.\",1\\n', 'does not fit.,0\\n', 'very happy with this product.,1\\n', '\"the screen size is big, key pad lit well enough, and the camera quality is excellent for a camera phone.\",1\\n', \"there's really nothing bad i can say about this headset.,0\\n\", '\"i\\'m glad i found this product on amazon it is hard to find, it wasn\\'t high priced.\",0\\n', 'portable and it works.,1\\n', '\"my colleague & i now get great reception.a little expensive, but performance is great.\",0\\n', \"i've also had problems with the phone reading the memory card in which i always turn it on and then off again.,0\\n\", 'not good when wearing a hat or sunglasses.,0\\n', 'timely shipment and quality product.,1\\n', 'nice solid keyboard.,1\\n', 'very well made and fits my surefire gx2 perfectly.,1\\n', 'horrible phone.,0\\n', 'bt5     battery junk!.,0\\n', 'we would recommend these to others.,1\\n', 'cant get the software to work with my computer.,1\\n', 'disappointed!.,0\\n', 'poor voice clarity.,0\\n', 'the battery works great!,1\\n', 'no buyers remorse on this one!.,0\\n', 'very disappointed in accessoryone.,0\\n', 'i find this inexcusable and so will probably be returning this phone and perhaps changing carriers.,0\\n', '\"looks great and is strong.\"\"\",1\\n', '\"i have had tmobile service for 2 or 3 years now, and i am pretty happy with it.\",1\\n', 'the update procedure is difficult and cumbersome.,0\\n', 'disappointment.. i hate anything that goes in my ear.,0\\n', 'great software for motorolas.,1\\n', 'very easy to use.,1\\n', '\"uncomfortable in the ear, don\\'t use with lg vx99         (env).\",0\\n', 'the volume switch rocketed out of the unit to a destination unknown.,0\\n', '\"it holds a charge for a long time, is reasonably comfortable under long-wearing conditions and the quality of sound is tremendous.\",1\\n', \"i'd like to return it.,1\\n\", \"the keyboard is really worthwhile in usefulness and is sturdy enough i don't expect any problems.,1\\n\", '\"verizon\\'s bills, however, are difficult to understand even though their pricing plans are simple.\",0\\n', '\"after charging overnight, these batteries work great.\",1\\n', \"you won't regret it!,0\\n\", 'i love this phone!.,1\\n', 'a disappointment.,0\\n', 'its not user friendly.,0\\n', 'unfortunately the ability to actually know you are receiving a call is a rather important feature and this phone is pitiful in that respect.,0\\n', '\"then i exchanged for the same phone, even that had the same problem.\",0\\n', 'this results in the phone being either stuck at max volume or mute.,0\\n', '\"it is super charged up for use as a small hybrid palmtop/camera/cellphone, and excels in those roles.\",1\\n', '\"i would definitely recommend the jabra bt25    v for those who are looking for comfort, clarity and a great price!\",1\\n', 'i had verizon 2 years ago and really liked their service.,1\\n', 'pretty piece of junk.,0\\n', 'plug was the wrong size.,0\\n', 'works as described.,1\\n', 'bad purchase.,0\\n', 'well im satisfied.,1\\n', '\"the bose noise cancelling is amazing, which is very important for a nyc commuter.\",1\\n', 'this battery is an excellent bargain!,1\\n', 'defective crap.,0\\n', 'i wear glasses and it fits fine with them.,1\\n', '\"the sound quality for the device is unacceptable.unless you are in a really quiet area, you almost hear nothing.\",0\\n', 'i would not recommend this item to anyone.,0\\n', 'the holster that arrived did not match the photo in the ad.,0\\n', 'great...no problems at all!.,0\\n', 'this frog phone charm is adorable and very eye catching.,1\\n', 'you never know if you pushed it hard enough or the right number of times for the function you want or not.,0\\n', 'the sound is clear and the people i talk to on it are amazed at the quality too.,1\\n', 'i got the aluminum case for my new palm vx and it worked really well--it has protected my handheld perfectly so far.,1\\n', '\"very good product, well made.\",1\\n', 'i am very impressed with the job that motorola did on the sturdiness of this phone.,1\\n', '\"i received my orders well within the shipping timeframe, everything was in good working order and overall, i am very excited to have this source.\",1\\n', 'the phone is sturdy and waterproof.,1\\n', 'i am not impressed with this and i would not recommend this item to anyone.,1\\n', 'my only complaint is the standard sound volume is a little low even when turned up to 5(of 5),0\\n', 'thanks again to amazon for having the things i need for a good price!,1\\n', 'i had to go to a store and bought a new nokia phone which is working great.,1\\n', 'works great!.,1\\n', 'really ugly.,0\\n', '\"horrible, had to switch 3 times.\",0\\n', 'the noise shield is incrediable.,0\\n', 'no real improvement.,1\\n', 'razr battery - good buy.,1\\n', 'keep up the good work amazon!!,1\\n', 'they refuse to refund or replace.,0\\n', \"unfortunately it's easy to accidentally activate them with the gentle-touch buttons if you accidentally touch the phone to your face while listening.,1\\n\", 'great case and price!,1\\n', 'all it took was one drop from about 6 inches above the kitchen counter and it was cracked.i am not impressed and i am not laughing.,0\\n', '\"bluetooth range is good - a few days ago i left my phone in the trunk, got a call, and carried the conversation without a hitch.\",1\\n', '\"small, sleek, impressive looking, practical setup with ample storage in place.\",1\\n', 'the eargels channel the sound directly into your ear and seem to increase the sound volume and clarity.,1\\n', 'none of the new ones have ever quite worked properly.,1\\n', 'i am glad i purchased it.,1\\n', \"i've missed numerous calls because of this reason.,0\\n\", '\"perhaps my phone is defective, but people cannot hear me when i use this.\",0\\n', '\"sucked, most of the stuff does not work with my phone.\",0\\n', '\"no shifting, no bubbling, no peeling, not even a scratch, nothing!i couldn\\'t be more happier with my new one for the droid.\",0\\n', 'worst software ever used.... if i could give this zero stars i would.,0\\n', 'trying to make a call on these is an exercise in frustration.,0\\n', 'the case is a flimsy piece of plastic and has no front or side protection whatsoever.,0\\n', '\"i own a jabra earset and was very happy with it, but the sound quality, especially outgoing, on this is better.\",1\\n', '\"i love the camera, it\\'s really pretty good quality.\",1\\n', 'thank you for such great service.,1\\n', '\"the seller is very understanding and patient, i would definitely buy from them again.\",1\\n', \"it's aggravating!,0\\n\", 'great product for the price!.,1\\n', '\"i have purchased these for both family and friends, and all enjoy their clarity and ease of use\",1\\n', 'virgin wireless rocks and so does this cheap little phone!,0\\n', '\"none of it works, just don\\'t buy it.\",1\\n', '\"muddy, low quality sound, and the casing around the wire\\'s insert was poorly super glued and slid off.\",0\\n', 'please dont waste your money.,0\\n', '\"all in all, i\\'m quite satisfied with this purchase.\",1\\n', '\"if you are looking for a good quality motorola headset keep looking, this isn\\'t it.\",1\\n', 'yet plantronincs continues to use the same flawed charger design.,0\\n', 'disapointing results.,0\\n', 'cumbersome design.,0\\n', '\"great it was new packaged nice works good, no problems and it came in less time then i expected!!!!\",1\\n', 'great product.,1\\n', \"it's a piece of crap!,0\\n\", '\"my experience was terrible..... this was my fourth bluetooth headset, and while it was much more comfortable than my last jabra (which i hated!!!\",0\\n', 'this fixes all the problems.,0\\n', 'worst ever.,0\\n', 'i am very happy,1\\n', '\"i\\'ve had no trouble accessing the internet, downloading ringtones or performing any of the functions.\",0\\n', 'the battery life is highly unacceptable.,0\\n', 'that company is a joke.,0\\n', '\"it works great with a car charger, especially if you cannot plug in two adapters at the same time.\",1\\n', '\"verizon tech support walked my through a few procedures, none of which worked and i ended up having to do a hard re-set, wiping out all my data.\",1\\n', '\"it plays louder than any other speaker of this size; the price is so low that most would think the quality is lacking, however, it\\'s not.\",0\\n', 'better than expected.,1\\n', '\"it feels poorly constructed, the menus are difficult to navigate, and the buttons are so recessed that it is difficult to push them.\",0\\n', 'battery is holding up well.,1\\n', \"also difficult to put on.i'd recommend avoiding this product.,0\\n\", '\"i only used it two days, and it wasn\\'t always easy to hear with.\",1\\n', 'i got the car charger and not even after a week the charger was broken...i went to plug it in and it started smoking.,0\\n', 'sprint - terrible customer service.,0\\n', 'they are so cool!,1\\n', 'easy to use.,1\\n', 'better than new.,1\\n', '\"what possesed me to get this junk, i have no idea...\",0\\n', 'piece of trash.,0\\n', 'a pretty good product.,1\\n', 'this is a great phone!.,1\\n', '\"for the price on amazon, it is an excellent product, which i would highly recommend.\",1\\n', '\"the real killer is the volume, and of course it breaking.\",0\\n', 'those phones are working just fine now.,1\\n', 'i am more than happy with this product.,1\\n', 'poor construction.,0\\n', 'this is infuriating.,0\\n', '\"overall, i would recommend this phone over the new walkman.\",1\\n', '\"it is cheap, and it feel and look just as cheap.\",0\\n', 'it fits my ear well and is comfortable on.,1\\n', \"it doesn't work in europe or asia.,1\\n\", \"clipping this to your belt will deffinitely make you feel like 5     cent's up-and-coming.,1\\n\", 'i like design and look of jabra behing the ear headsets and 5    2     is pretty comfortible to wear 24 hours a day without pain in the ear.,1\\n', 'i was amazed at the quick arrival of the two original lg cell phone batteries and and at a fraction of the price.,1\\n', 'the worst phone from samsung...crap..... this crappy samsung e7   5.. is the worst i have ever seeen.,0\\n', 'the charger worked for about a week and then completely stopped charging my phone.,1\\n', 'poor product.,0\\n', 'however i needed some better instructions.,1\\n', 'you need two hands to operate the screen.this software interface is decade old and cannot compete with new software designs.,0\\n', 'worked very well paired with a treo 7        w and as a skype headset on my pc (using a usb bluetooth transceiver).,1\\n', '\"steer clear of this product and go with the genuine palm replacementr pens, which come in a three-pack.\",1\\n', 'do not buy do not buyit sucks,0\\n', 'this is a great product..... sure beats using your fingers!.,1\\n', '\"plus, i seriously do not believe it is worth its steep price point.\",0\\n', \"all the other cases i've tried normally fall apart after a few months but this one seems to be in for the long haul.,0\\n\", \"don't make the same mistake that i did and please don't buy this phone.,0\\n\", \"this phone might well be the worst i've ever had in any brand.,0\\n\", 'case was more or less an extra that i originally put on but later discarded because it scratched my ear.,0\\n', 'i recommend igo to anyone with different brand cell phones/mp3 players in the family.,1\\n', \"don't bother - go to the store.,0\\n\", '\"i posted more detailed comments under the grey or black phone, but i have the fire red and it\\'s a great color!\",1\\n', 'i did not have any problem with this item and would order it again if needed.,0\\n', '\"not only did the software do a great job of this, i could also make my own ringtones form my existing cds without an internet connection.\",0\\n', \"im surprised this is a good quality car charger and there's not much reviews about it.,0\\n\", 'these are fabulous!,1\\n', '\"however, bt headsets are currently not good for real time games like first-person shooters since the audio delay messes me up.\",0\\n', 'i used bitpim (a free program you can find on the internet)to transfer data to the phone.the price of the cable was excellent.,1\\n', 'disappointing accessory from a good manufacturer.,0\\n', '\"performed awful -- muffled, tinny incoming sound and severe echo for those on the other end of the call.\",0\\n', '\"obviously they have a terrible customer service, so you get what you pay for.\",0\\n', '\"they do not last forever, but is not overly expensive to replace.easy to operate and the sound is much better than others i have tried.\",0\\n', '\"i contacted the company and they told me that, although the unit was still under warranty, if i couldn\\'t produce my receipt i was out of luck.\",1\\n', 'linksys should have some way to exchange a bad phone for a refurb unit or something!,0\\n', 'phone is sturdy as all nokia bar phones are.,1\\n', 'great phone.,1\\n', '\"when i placed my treo into the case, not only was it not snug, but there was a lot of extra room on the sides.\",0\\n', \"i'm pleased.,1\\n\", 'battery is terrible.,0\\n', 'i found the product to be easy to set up and use.,1\\n', 'the earpiece on this is too large or too heavy...it keeps falling out of my ear.,0\\n', 'utter crap.. sound quality is terrible.,0\\n', '\"the charger arrived within the promised timeframe, but it did not work.\",1\\n', '\"no ear loop needed, it\\'s tiny and the sound is great.\",1\\n', '\"finally, after three or four times the spring of the latch broke and i could not use it any longer on the visor.\",0\\n', '\"the handsfree part works fine, but then the car tries to download the address book, and the treo reboots.overall, i still rate this device high.\",1\\n', 'talk about useless customer service.,0\\n', 'this does not fit the palm tungsten e2 and it broke the first time i tried to plug it in.,0\\n', \"i'm happy about this purchase- good quality and low price.,1\\n\", 'i love the look and feel of samsung flipphones.,1\\n', 'its well-designed and very sharp -- the blue is a very nice color.,1\\n', 'i could not recommend these more.,0\\n', 'nice sound.,1\\n', '\"looks good in the picture, but this case was a huge disappointment!!\",0\\n', 'setup went very smoothly.,1\\n', 'its extremely slow and takes forever to do anything with it.,0\\n', '\"a must study for anyone interested in the \"\"worst sins\"\" of industrial design.\",0\\n', '\"it is well made, easy to access the phone and has a handy, detachable belt clip.\",1\\n', '\"bluetooth does not work, phone locks up, screens just flash up and now it just makes calls randomly while in my pocket locked.\",0\\n', 'truly awful.,0\\n', '\"it works fine on my motorola 325 cellphone, and a lot better than the worn-out battery did.\",1\\n', 'the volume for the ringer is real good (you have choices how loud).,0\\n', 'camera color balance is awful.,0\\n', '\"this product is clearly not ready for prime time, i don\\'t care how cool it looks, if you can\\'t tell a call is coming in it\\'s worthless.\",1\\n', 'i love the ringtones because they are so upbeat!,1\\n', 'chinese forgeries abound!.,1\\n', 'easy to pair with my samsung cell.,1\\n', 'i would advise to not purchase this item it never worked very well.,1\\n', 'too bad you have to pay up to $$$ a month for the service!,0\\n', 'works well.,1\\n', 'the nokia ca-42 usb cable did not work with my phone.,0\\n', 'clear crisp sound.,1\\n', '\"i have to use the smallest earpieces provided, but it stays on pretty well.\",1\\n', '\"the biggest complaint i have is, the battery drains superfast.\",0\\n', 'the design might be ergonomic in theory but i could not stand having these in my ear.,0\\n', 'do not buy if you want to use the holster.,0\\n', 'the phone can also take great pictures and even video clips.,1\\n', \"it doesn't make you look cool.,1\\n\", '\"because both ears are occupied, background is not distracting at all.\",0\\n', '\"comfortable fit - you need your headset to be comfortable for at least an hour at a time, if not for an entire day.\",0\\n', '\"also, the phone doesn\\'t seem to accept anything except cbr mp3s, preferably ripped by windows media player.\",0\\n', '\"* comes with a strong light that you can use to light up your camera shots, and even flash sos signals (seriously!\",1\\n', 'lightweight and works well.,1\\n', 'so just beware.,0\\n', 'i love this cable - it allows me to connect any mini-usb device to my pc.,1\\n', 'this is cool because most cases are just open there allowing the screen to get all scratched up.,0\\n', 'i bought this phone as a replacement for my startac and have regretted it since.,0\\n', 'appears to actually outperform the original battery from china that came with my v325i.,1\\n', '\"it lasts less than 3o minutes, if i actually try to use the phone.my wife has the same phone with the same problem.\",0\\n', 'poor quality.,0\\n', '\"jabra ear gels \"\"r\"\" the best!.\",1\\n', 'not worth it.,0\\n', 'the phone crashed completely and now i have to get it replaced.,0\\n', '\"it quit working after i\\'d used it for about    8 months, so i just purchased another one because this is the best headset i\\'ve ever owned.\",1\\n', '\"unfortunately it will not recharge my iphone 4s, despite connecting it from multiple power sources (imac, external battery, wall outlet, etc).\",0\\n', 'it was a great phone.,1\\n', 'if you simply want a small flip phone -- look elsewhere as the extra bells & whistles are mediocre.,0\\n', '\"good value, works fine - power via usb, car, or wall outlet.\",1\\n', 'this is simply the best bluetooth headset for sound quality!,1\\n', '\"in the span of an hour, i had two people exclaim \"\"whoa - is that the new phone on tv?!?\",1\\n', 'i have always used corded headsets and the freedom from the wireless is very helpful.,1\\n', '\"other than that, the leather is nice and soft; the fit is very tight; the cut out for the face is a good shape.\",1\\n', 'after receiving and using the product for just 2 days it broke.,0\\n', 'this product is great... it makes working a lot easier i can go to the copier while waiting on hold for something.,1\\n', 't-mobile has the best customer service anywhere.,1\\n', 'arrived quickly and much less expensive than others being sold.,0\\n', 'we have tried 2 units and they both failed within 2 months.. pros,0\\n', '\"provides good protection and looks classy, too.\",1\\n', 'krussel always good.,1\\n', '\"the tracfonewebsite is user friendly and makes it easy toactivate, etc.\",1\\n', 'the design is very good.4.,1\\n', 'i great reception all the time.,1\\n', 'i would highly recommend this product.,1\\n', '\"couldn\\'t use the unit with sunglasses, not good in texas!\",0\\n', 'it dit not work most of the time with my nokia 532    .,0\\n', '\"bought mainly for the charger, which broke soon after purchasing.\",0\\n', '\"if you like a loud buzzing to override all your conversations, then this phone is for you!\",0\\n', 'fantastic buy and will get again for whatever my next phone is,1\\n', 'this blueant supertooth hands-free phone speaker is awesome.,1\\n', 'does not fit.,0\\n', '.... item arrived quickly and works great with my metro pcs samsung sch-r45     slider phone and sony premium sound in ear plugs.,1\\n', 'disappointing.,0\\n', 'blue ant is easy to use.,1\\n', 'cheap but hey it works.. was pleasantly suprised given the low cost of this item.,1\\n', 'then a few days later the a puff of smoke came out of the phone while in use.,0\\n', \"it's very convenient and simple to use - gets job done & makes the car ride so much smoother.,1\\n\", 'the nano stated it.my son was dissapointed.,0\\n', 'the sound quality is excellent as well.,1\\n', 'its the best headset i have used.,1\\n', 'would not reccommend.,0\\n', 'they have been around for years and carries the highest quality of anti-glare screen protector that i have found to date.,0\\n', 'this particular model would not work with my motorola q smartphone.,0\\n', 'wont work right or atleast for me.,1\\n', 'in addition it feels &amp; looks as if the phone is all lightweight cheap plastic.,0\\n', '\"but now that it is \"\"out of warranty\"\" the same problems reoccure.bottom line... put your money somewhere else... cingular will not support it.\",0\\n', '\"i really wanted the plantronics 5        to be the right one, but it has too many issues for me.the good\",1\\n', 'great product.,1\\n', 'crisp and clear.,1\\n', 'after the first charge kept going dead after    2 minutes.,0\\n', '\"very cheap plastic, creaks like an old wooden floor.\",0\\n', '\"i get absolutely horrible reception in my apartment, where with other phones i have not had this problem.\",0\\n', 'the reception has been generally good.,1\\n', '\"excellent sound, battery life and inconspicuous to boot!.\",1\\n', 'great bluetooth!.,1\\n', 'i highly recommend this case.,1\\n', 'worthwhile.,1\\n', 'this is a great deal.,1\\n', '\"after my phone got to be about a year old, it\\'s been slowly breaking despite much care on my part.\",0\\n', 'i am sorry i made this purchase.,0\\n', 'i bought these hoping i could make my bluetooth headset fit better but these things made it impossible to wear.,0\\n', 'treo and t-mobile refused to replace it again and forced me to buy another phone without any kind of upgrade discount.,0\\n', 'it was horrible!.,0\\n', 'they work about 2 weeks then break.,0\\n', 'it is simple to use and i like it.,1\\n', '\"it\\'s a great tool for entertainment, communication, and data management.oh, be sure to use activesync 4.2 for optimal data synchronization results!\",1\\n', \"i can't use this case because the smell is disgusting.,0\\n\", 'not what i wanted.,0\\n', 'great phone.,1\\n', \"i bought this battery with a coupon from amazon and i'm very happy with my purchase.,1\\n\", '\"the internet access was fine, it the rare instance that it worked.\",1\\n', 'perfect for the ps3.,1\\n', \"a good quality bargain.. i bought this after i bought a cheapy from big lots that sounded awful and people on the other end couldn't hear me.,1\\n\", '$5     down the drain.,0\\n', \"i tried talking real loud but shouting on the telephone gets old and i was still told it wasn't great.,0\\n\", '\"good , works fine.\",1\\n', 'for the price this was a great deal.,1\\n', '\"great price, too!\",1\\n', '\"if there is a wind, it is completely useless.\",0\\n', \"yes it's shiny on front side - and i love it!,1\\n\", 'does not work.,0\\n', '\"at first i thought i was grtting a good deal at $7.44, until i plugged it into my phone (v3c razr).\",1\\n', 'the reception through this headset is excellent.,1\\n', '\"i have a verizon lg phone and they work well together, good reception and range that exceeds 2     feet line of sight.\",1\\n', 'improper description.... i had to return it.,0\\n', '#    it works - #2 it is comfortable.,1\\n', 'the jabra eargels fit my ears very well.,1\\n', 'i checked everywhere and there is no feature for it which is really disappointing.,0\\n', 'i would recommend it.,1\\n', '\"that being said, for a phone, the camera is very nice; many cool effects to play with, and video is decent as well.\",1\\n', 'i have been very satisfied with this cell phone from day one.,1\\n', \"they keep getting better and better (this is my third one and i've had numerous palms too).,1\\n\", 'awkward to use and unreliable.,0\\n', 'not as good as i had hoped.,0\\n', 'good case!.,1\\n', \"doesn't work.,1\\n\", 'really good product.,1\\n', 'unfortunately it did not work.,0\\n', 'all three broke within two months of use.,0\\n', '\"my father has the v265, and the battery is dying.\",0\\n', '\"however, the ear pads come off easily and after only one week i lost one.\",0\\n', '\"the calls drop, the phone comes on and off at will, the screen goes black and the worst of all it stops ringing intermittently.\",0\\n', '\"horrible, horrible protector.\",0\\n', \"i don't like this nokia either.,1\\n\", '\"reaching for the bottom row is uncomfortable, and the send and end keys are not where i expect them to be.3.\",0\\n', 'i have bought this nokia cell phone a few weeks ago and it was a nightmare.,0\\n', 'it would take too long to describe how bad my customer service experience has been with amazon.,0\\n', 'the only very disappointing thing was there was no speakerphone!!!!,0\\n', 'terrible.. my car will not accept this cassette.,0\\n', '\"product is useless, since it does not have enough charging current to charge the 2 cellphones i was planning to use it with.\",0\\n', \"it's not what it says it is.,0\\n\", 'used and dirty.,0\\n', 'very unreliable service from t-mobile !,0\\n', 'not good enough for the price.,1\\n', 'it looks very nice.,1\\n', '\"this is an excellent tool, especially when paired with your phone\\'s auto-answer.\",1\\n', \"i have read other's reviews here but i haven't had any problem with it.,0\\n\", 'these products cover up the important light sensor above the ear outlet.,1\\n', 'comfortable in my hand.,1\\n', 'just does not work.,0\\n', 'poor reliability.,0\\n', '(it works!),1\\n', '\"terrible product, and waste of money!\",0\\n', 'it was a waste of my money.,0\\n', 'so far it has worked like a charm.,1\\n', '\"i have only had it for a few weeks, but so far, so good.\",1\\n', '\"but, in any case, the best part is, you can download these pictures to your laptop using ir, or even send pictures from your laptop to the phone.\",1\\n', 'would recommend this item.,1\\n', \"it's been my choice headset for years.great sound; good volume; good noise cancellation.,1\\n\", '\"nice case, feels good in your hands.\",1\\n', '\"just really good.. so far, probably the best bt headset i have ever had.\",1\\n', 'works fine.,1\\n', 'i received my headset in good time and was happy with it.,1\\n', 'i was very pleased to see that i could replace my well travled swivel holster for my blackberry flip.,1\\n', 'my sister has one also and she loves it.,1\\n', 'good quality.,1\\n', \"this is by far the worst purchase i've made on amazon.,0\\n\", 'excellent dual-purpose headset.,1\\n', 'excellent!.,1\\n', 'does not work for listening to music with the cingular 8   25.,0\\n', '\"it seems completely secure, both holding on to my belt, and keeping the iphone inside.\",1\\n', '\"the bottowm line...another worthless, cheap gimmick from sprint.\",0\\n', 'having trouble with volume.,0\\n', 'the only good thing was that it fits comfortably on small ears.,1\\n', 'warning - do not buy!!.,0\\n', '\"i am pairing this with my iphone, and i could not be happier with it so far.\",0\\n', '\"when it opens, the battery connection is broken and the device is turned off.\",0\\n', '\"i didn\\'t want the clip going over the top of my ear, causing discomfort.\",0\\n', 'best headset ever!!!.,1\\n', \"don't trust their website and don't expect any helpful support.,1\\n\", 'it was that loud.glad to say that the plantronics 5        maintains a flawless connection to my cell and with no static during normal use.,0\\n', 'the speaker is of low quality so as making the ring tones sound very cheap.,0\\n', '\"fits comfortably, came with three sizes of earbud tips.\",1\\n', 'excellent product for the price.,1\\n', 'bad reception.,0\\n', 'this product is very high quality chinese crap!!!!!!,0\\n', 'it was quite comfortable in the ear.,1\\n', 'great phone.,1\\n', \"don't buy this product - it fails!.,0\\n\", 'everything about this product is wrong.first,0\\n', 'the pairing of the two devices was so easy it barely took a couple minutes before i started making calls with the voice dialing feature.,1\\n', '\"this was utterly confusing at first, which caused me to lose a couple of very, very important contacts.\",0\\n', 'terrible phone holder.,0\\n', 'the cutouts and buttons are placed perfectly.,1\\n', 'i love being able to use one headset for both by land-line and cell.,1\\n', 'problem is that the ear loops are made of weak material and break easily.,0\\n', 'not nearly as good looking as the amazon picture makes it look.,0\\n', '\"but despite these few flaws, this case is of exceptional quality and well worth the additional costs of owning an official oem product.\",1\\n', 'how stupid is that?,0\\n', 'seller shipped quickly and much cheaper than the competitors.,1\\n', '\"good show, samsung.\",1\\n', 'it always cuts out and makes a beep beep beep sound then says signal failed.,0\\n', '\"my phone sounded ok ( not great - ok), but my wife\\'s phone was almost totally unintelligible, she couldn\\'t understand a word being said on it.\",0\\n', '\"while i managed to bend the leaf spring back in place, the metal now has enough stress that it will break on the next drop.\",0\\n', 'leopard print is wonderfully wild!.,0\\n', 'works for me.,1\\n', '\"saggy, floppy piece of junk.\",0\\n', 'much better than the hard plastic cases.,0\\n', 'it also had a new problem.,0\\n', 'happy so far!.,1\\n', 'cool phone.,1\\n', 'works good.,1\\n', 'motorola finally got the voice quality of a bluetooth headset right.,1\\n', '\"but it is great, i would really recommend it\",1\\n', \"makes it easier to keep up with my bluetooth when i'm not wearing it.,0\\n\", 'as i said above....pretty useless!,0\\n', 'this pair of headphones is the worst that i have ever had sound-wise.,0\\n', '[...] down the drain because of a weak snap!,0\\n', 'does not charge the cingular (att) 8525 phone.,0\\n', '\"you get extra minutes so that you can carry out the call and not get cut off.\"\"\",0\\n', '\"however, after about a year, the fliptop started to get loose and wobbly and eventually my screen went black and i couldn\\'t receive and place calls.\",0\\n', 'the headset fulfills my requirements so i am happy with my purchase.,1\\n', '\"i like the fact that it rests lightly against your ear, rather than inside.\",1\\n', 'a lot of websites have been rating this a very good phone and so do i.,1\\n', 'i have tried these cables with my computer and my ipod and it works just fine.,1\\n', '\"the mic there is a joke, and the volume is quite low.\",0\\n', 'i does not maintain a connection with the computer while it is on my lap.,0\\n', 'it is easy to turn on and off when you are in the car and the volume controls are quite accessable.,1\\n', '\"otherwise, easy to install and use, clear sound.\",1\\n', 'nice leather.,1\\n', 'it is a joy to use.,1\\n', 'very much disappointed with this company.,0\\n', 'this is the phone to get for 2        5.... i just bought my s7       a and all i can say is wow!,1\\n', 'just reading on the specs alone makes you say wow.,1\\n', 'love it.. great armband.,1\\n', 'i really like this product over the motorola because it is allot clearer on the ear piece and the mic.,1\\n', '\"however, the keypads are so tinny that i sometimes reach the wrong buttons.\",0\\n', \"i exchanged the sony ericson z5        a for this and i'm pretty happy with that decision.,1\\n\", 'i was very impressed with the price of the cases.,1\\n', 'also makes it easier to hold on to.,1\\n', '\"i use this product in a motor control center where there is a lot of high voltage humming from the equipment, and it works great!\",1\\n', \"it's pretty easy.,1\\n\", 'i cannot make calls at certain places.,0\\n', '\"however, my girl was complain that some time the phone doesn\\'t wake up like normal phone does.\",0\\n', 'beautiful styling though.,1\\n', 'this company charge me a restocking fee and still not given me my refund back.,0\\n', \"i'm trying to return it for a refund.,1\\n\", 'i plugged it in only to find out not a darn thing worked.,0\\n', 'excellent product.,1\\n', 'earbud piece breaks easily.,0\\n', 'lousy product.,0\\n', \"this phone tries very hard to do everything but fails at it's very ability to be a phone.,0\\n\", 'it is the best charger i have seen on the market yet.,1\\n', '\":-)oh, the charger seems to work fine.\",1\\n', 'it fits so securely that the ear hook does not even need to be used and the sound is better directed through your ear canal.,1\\n', 'not enough volume.,0\\n', 'echo problem....very unsatisfactory,0\\n', 'you could only take 2 videos at a time and the quality was very poor.,0\\n', \"don't waste your money.,0\\n\", 'adapter does not provide enough charging current.,0\\n', '\"there was so much hype over this phone that i assumed it was the best, my mistake.\",0\\n', 'you also cannot take pictures with it in the case because the lense is covered.,0\\n', 'phone falls out easily.,0\\n', '\"it didn\\'t work, people can not hear me when i talk.\",0\\n', 'the text messaging feature is really tricky to use.,0\\n', \"i'm really disappointed all i have now is a charger that doesn't work.,0\\n\", 'painful on the ear.,0\\n', 'disappointed.,0\\n', 'the screen does get smudged easily because it touches your ear and face.,0\\n', 'what a piece of junk.. i lose more calls on this phone.,0\\n', 'item does not match picture.,0\\n', 'the only thing that disappoint me is the infra red port (irda).,0\\n', '\"you can not answer calls with the unit, never worked once!\",0\\n']\n"
     ]
    }
   ],
   "source": [
    "def get_lines(filename):\n",
    "    try:\n",
    "        with open(filename) as f:\n",
    "            return [line.rstrip('\\t0' or '\\t1') for line in f if line.rstrip('\\t0' or '\\t1')]\n",
    "    except IOError:\n",
    "        print(\"Error File Does Not Exist\")\n",
    "        return []\n",
    "\n",
    "Lines = get_lines('dataset.csv')\n",
    "print(Lines)"
   ]
  },
  {
   "cell_type": "code",
   "execution_count": 4,
   "metadata": {},
   "outputs": [],
   "source": [
    "#a = Lines[2]\n",
    "#a\n",
    "#x= a[:-3]\n",
    "#print(x)\n",
    "#y = int(a[-2:-1])\n",
    "#print(y)\n",
    "#type(y)"
   ]
  },
  {
   "cell_type": "code",
   "execution_count": null,
   "metadata": {},
   "outputs": [],
   "source": []
  },
  {
   "cell_type": "code",
   "execution_count": null,
   "metadata": {},
   "outputs": [],
   "source": []
  },
  {
   "cell_type": "code",
   "execution_count": 5,
   "metadata": {},
   "outputs": [],
   "source": [
    "comment = []\n",
    "label = []"
   ]
  },
  {
   "cell_type": "code",
   "execution_count": 6,
   "metadata": {},
   "outputs": [],
   "source": [
    "for i in range(0,len(Lines)):\n",
    "    a1 = Lines[i]\n",
    "    x1 = a1[:-3]\n",
    "    y1 = int(a1[-2:-1])\n",
    "    comment.append(x1)\n",
    "    label.append(y1)"
   ]
  },
  {
   "cell_type": "code",
   "execution_count": 19,
   "metadata": {},
   "outputs": [
    {
     "name": "stdout",
     "output_type": "stream",
     "text": [
      "870\n",
      "[1, 1, 0, 1, 1, 1, 0, 0, 1, 1, 0, 1, 0, 1, 0, 1, 1, 1, 0, 1, 0, 0, 1, 1, 1, 1, 0, 0, 1, 1, 0, 1, 0, 1, 0, 1, 0, 1, 1, 1, 0, 0, 0, 1, 1, 1, 1, 0, 1, 0, 0, 1, 1, 1, 0, 1, 0, 0, 1, 1, 1, 1, 1, 1, 1, 1, 1, 0, 1, 1, 1, 1, 1, 1, 1, 1, 0, 1, 1, 1, 1, 1, 0, 1, 0, 1, 0, 1, 1, 0, 1, 0, 1, 1, 0, 1, 1, 1, 1, 1, 1, 0, 1, 1, 1, 1, 1, 1, 0, 1, 0, 0, 1, 1, 1, 1, 0, 1, 1, 0, 0, 0, 1, 1, 0, 0, 0, 0, 0, 1, 1, 1, 0, 1, 1, 1, 0, 1, 0, 1, 1, 1, 0, 1, 0, 1, 0, 0, 1, 1, 1, 1, 0, 0, 0, 1, 0, 1, 0, 1, 0, 0, 0, 1, 1, 0, 0, 1, 0, 0, 1, 1, 0, 1, 1, 1, 1, 1, 0, 0, 1, 0, 1, 1, 1, 0, 0, 0, 0, 1, 1, 0, 1, 0, 0, 0, 1, 0, 0, 0, 1, 1, 1, 1, 1, 1, 0, 0, 0, 0, 1, 1, 1, 1, 0, 1, 1, 1, 1, 1, 0, 0, 0, 1, 1, 1, 1, 1, 1, 0, 1, 1, 1, 0, 1, 0, 1, 0, 1, 0, 1, 1, 1, 1, 1, 1, 1, 1, 1, 1, 0, 0, 1, 1, 1, 0, 1, 1, 1, 1, 0, 0, 1, 1, 1, 1, 1, 0, 1, 0, 1, 0, 0, 1, 0, 0, 0, 1, 1, 0, 0, 0, 0, 1, 0, 1, 0, 0, 1, 1, 1, 1, 0, 0, 0, 1, 0, 1, 0, 0, 1, 0, 0, 0, 1, 1, 0, 1, 1, 0, 1, 1, 0, 0, 1, 1, 1, 0, 1, 0, 0, 1, 0, 1, 1, 1, 1, 1, 0, 0, 0, 0, 1, 0, 1, 1, 0, 1, 1, 0, 0, 1, 1, 1, 1, 1, 1, 1, 0, 1, 1, 1, 0, 1, 1, 1, 0, 1, 0, 1, 1, 0, 1, 1, 0, 0, 1, 0, 0, 0, 0, 1, 0, 0, 1, 0, 1, 1, 0, 1, 1, 1, 1, 1, 0, 1, 0, 0, 0, 0, 0, 1, 1, 1, 0, 1, 1, 0, 0, 1, 0, 0, 0, 1, 1, 1, 0, 0, 1, 1, 0, 0, 1, 0, 0, 0, 1, 1, 0, 0, 1, 1, 0, 0, 1, 1, 1, 0, 1, 0, 1, 0, 0, 0, 0, 0, 1, 1, 1, 0, 0, 1, 0, 1, 1, 1, 0, 1, 0, 0, 0, 0, 1, 0, 1, 1, 1, 1, 1, 1, 1, 0, 1, 1, 1, 0, 0, 0, 1, 1, 1, 0, 1, 1, 0, 1, 1, 1, 1, 1, 0, 0, 0, 0, 0, 0, 0, 1, 1, 1, 1, 0, 1, 1, 0, 1, 0, 0, 1, 1, 0, 0, 0, 1, 1, 0, 0, 0, 0, 1, 0, 0, 0, 1, 1, 0, 1, 0, 1, 0, 1, 0, 0, 1, 1, 1, 0, 0, 1, 1, 1, 0, 1, 1, 0, 0, 1, 0, 1, 1, 1, 1, 1, 0, 1, 0, 1, 0, 1, 1, 0, 1, 0, 0, 0, 0, 0, 1, 0, 1, 0, 0, 0, 1, 0, 1, 0, 0, 0, 0, 1, 0, 1, 1, 0, 1, 0, 1, 0, 0, 1, 1, 0, 1, 0, 0, 1, 1, 1, 0, 1, 0, 1, 0, 0, 1, 0, 0, 1, 0, 0, 1, 1, 1, 1, 1, 0, 1, 0, 1, 1, 0, 0, 0, 1, 1, 0, 0, 0, 1, 1, 0, 1, 0, 0, 1, 0, 0, 1, 0, 0, 1, 0, 1, 0, 1, 1, 1, 1, 1, 0, 1, 1, 0, 0, 1, 1, 1, 1, 1, 1, 0, 0, 0, 0, 1, 1, 0, 1, 0, 1, 1, 0, 1, 0, 1, 1, 0, 0, 0, 1, 0, 0, 1, 1, 1, 0, 0, 0, 1, 1, 1, 1, 1, 1, 0, 0, 0, 0, 0, 0, 1, 1, 0, 0, 1, 1, 1, 1, 1, 0, 0, 1, 1, 1, 0, 1, 0, 1, 1, 1, 0, 1, 1, 0, 1, 1, 1, 1, 0, 0, 1, 1, 1, 0, 0, 0, 0, 0, 0, 1, 0, 0, 0, 0, 0, 0, 0, 0, 0, 1, 1, 1, 0, 1, 1, 0, 0, 1, 0, 0, 1, 1, 1, 1, 1, 1, 1, 1, 1, 1, 1, 1, 0, 1, 1, 0, 1, 0, 0, 1, 0, 0, 0, 0, 1, 1, 0, 0, 1, 1, 0, 0, 1, 1, 0, 0, 1, 0, 0, 1, 1, 0, 0, 1, 0, 1, 1, 0, 0, 0, 0, 1, 0, 0, 0, 1, 1, 1, 1, 1, 0, 0, 0, 0, 0, 0, 0, 1, 1, 1, 1, 0, 0, 1, 1, 1, 1, 0, 1, 1, 1, 1, 0, 1, 1, 1, 1, 1, 0, 0, 1, 0, 1, 0, 1, 0, 0, 0, 1, 1, 1, 0, 0, 0, 0, 0, 0, 0, 0, 0, 0, 0, 0, 0, 0, 0, 0, 0, 0]\n"
     ]
    }
   ],
   "source": [
    "print(len(label))\n",
    "print(label)"
   ]
  },
  {
   "cell_type": "code",
   "execution_count": 20,
   "metadata": {},
   "outputs": [
    {
     "name": "stdout",
     "output_type": "stream",
     "text": [
      "870\n",
      "['\"good case, excellent value.\"', 'great for the jawbone.', 'tied to charger for conversations lasting more than 45 minutes.major problems!!', 'the mic is great.', 'i have to jiggle the plug to get it to line up right to get decent volume.', '\"if you have several dozen or several hundred contacts, then imagine the fun of sending each of them one by one.\"', '\"needless to say, i wasted my money.\"', 'what a waste of money and time!.', 'and the sound quality is great.', 'he was very impressed when going from the original battery to the extended battery.', 'if the two were seperated by a mere 5+ ft i started to notice excessive static and garbled sound from the headset.', 'very good quality though', '\"the design is very odd, as the ear \"\"clip\"\" is not very comfortable at all.\"', 'highly recommend for any one who has a blue tooth phone.', 'i advise everyone do not be fooled!', 'so far so good!.', 'works great!.', 'it clicks into place in a way that makes you wonder how long that mechanism would last.', '\"i went on motorola\\'s website and followed all directions, but could not get it to pair again.\"', 'i bought this to use with my kindle fire and absolutely loved it!', 'the commercials are the most misleading.', 'i bought it for my mother and she had a problem with the battery.', 'great pocket pc / phone combination.', \"i've owned this phone for 7 months now and can say that it's the best mobile phone i've had.\", \"i didn't think that the instructions provided were helpful to me.\", 'this product is ideal for people like me whose ears are very sensitive.', 'it is unusable in a moving car at freeway speed.', 'i have two more years left in this contract and i hate this phone.', 'car charger as well as ac charger are included to make sure you never run out of juice.highy recommended', 'it has kept up very well.', 'poor talk time performance.', 'the case is great and works fine with the 68    .', 'worthless product.', '\"it has a great camera thats 2mp, and the pics are nice and clear with great picture quality.\"', 'i was not impressed by this product.', 'nice headset priced right.', 'i only hear garbage for audio.', 'excellent bluetooth headset.', 'who in their right mind is gonna buy this battery?.', 'this case seems well made.', 'disappointed with battery.', \"not loud enough and doesn't turn on like it should.\", 'good protection and does not make phone too bulky.', 'a usable keyboard actually turns a pda into a real-world useful machine instead of just a neat gadget.', \"this phone is pretty sturdy and i've never had any large problems with it.\", 'i love this thing!', 'everything about it is fine and reasonable for the price i.e.', 'very disappointed.', 'i even dropped this phone into a stream and it was submerged for    5 seconds and it still works great!', 'i have been very happy with the 5        and have had no complaints from any one regarding my sound quality on their end.', 'the buttons for on and off are bad.', \"essentially you can forget microsoft's tech support.\", '\"i really recommend this faceplates since it looks very nice, elegant and cool.\"', \"these headphones were a great find - and i think they are perhaps the best purchase i've made in the last several years - seriously.\", 'buy a different phone - but not this.', 'you have to hold the phone at a particular angle for the other party to hear you clearly.', \"the one big drawback of the mp3 player is that the buttons on the phone's front cover that let you pause and skip songs lock out after a few seconds.\", '\"a week later after i activated it, it suddenly died.\"', 'it feels more comfortable than most headsets because i wear glasses and that gets in the way sometimes.', 'great for ipods too.', 'this device is great in several situations:   .)', \"mic doesn't work.\", '\"even in my bmw 3 series which is fairly quiet, i have trouble hearing what the other person is saying.\"', 'great choice!', 'nice docking station for home or work.', 'this is a beautiful phone.', 'love this product.', 'do not buy for d8    7...wrongly advertised for d8    7.', 'this is a great little item.', '\"i love this phone , it is very handy and has a lot of features .\"', 'i wear it everyday and it holds up very well.', 'not a good bargain.', '\"well packaged, arrived on time, and works as intended.\"', '\"this item worked great, but it broke after 6 months of use.\"', 'the headsets are easy to use and everyone loves them.', 'this phone works great.', 'the construction of the headsets is poor.', 'product was excellent and works better than the verizon one and boy was it cheaper!', 'the phone loads super!', '\"for a product that costs as much as this one does, i expect it to work far better and with greater ease than this thing does.\"', 'made very sturdy.', 'worked great!.', 'dont waste your money...', \"best i've found so far .... i've tried 2 other bluetooths and this one has the best quality (for both me and the listener) as well as ease of using.\", \"i'm very disappointed with my decision.\", 'integrated seamlessly with the motorola razr phone.', '\"buyer beware, you could flush money right down the toilet.\"', 'definitely a bargain.', 'the price was very good and with the free shipping and all it was a good purchase.', 'i received my supposedly new motorola 375 and apparently there was not a match between the phone and the charger.', '\"pros:-good camera - very nice pictures , also has cool styles like black and white, and more.\"', '\"that\\'s a huge design flaw (unless i\\'m not using it correctly, which i don\\'t think is the case).\"', '\"i love my 35     headset.. my jabra35     bluetooth headset is great, the reception is very good and the ear piece is a comfortable fit.\"', '\"the camera, although rated at an impressive    .3 megapixels, renders images that fall well below expectations of such a relatively high resolution.\"', 'i purcashed this for the car charger and it does not work.', '\"sound quality on both end is excellent, i use headset to call my wife and ask my wife to use headset to call me !2.\"', 'this phone is slim and light and the display is beautiful.', 'its a little geeky but i think thats its sex on toast and it rocks and oozes sex right down to its battery embedded sleek stylish leather case.', '\"great product, fast shipping!.\"', 'absolutely great.', 'the keyboard is a nice compromise between a full qwerty and the basic cell phone number keypad.', \"i got this phone around the end of may and i'm completely unhappy with it.\", 'it is very comfortable on the ear.', 'it has been a winner for us.', \")setup couldn't have been simpler.\", \"i've tried several different earpieces for my cell phone and this jabra one is the first one i've found that fits my ear comfortably.\", 'could not get strong enough signal.', 'iam very pleased with my purchase.', 'bad quality.', 'great audio!.', 'basically the service was very bad.', 'it did not work in my cell phone plug i am very up set with the charger!.', '\"i\\'ve only had my bluetooth for a few weeks, but i really like it.\"', 'the accompanied software is almost brilliant.', 'headset works great & was packaged nicely to avoid any damage.', '!i definitly recommend!!', 'the majority of the logitech earbud headsets failed.', 'very good stuff for the price.', 'my headset works just peachy-keen.', 'what a waste.', 'i was not happy with this item.', 'very disappointed.', 'the phone takes forever to charge like 2 to 5 hours literally.', \"i got this phone on reccomendation from a relative and i'm glad i did.\", 'what a waste of time!', 'its reception is very very poor.', 'items stated as included from the description are not included.', '\"audio quality is poor, very poor.\"', 'i had absolutely no problem with this headset linking to my 853     blackberry curve!', '\"i know that sounds funny, but to me it seemed like sketchy technology that wouldn\\'t work well.well, this one works great.\"', \"i've bought $5 wired headphones that sound better than these.\", 'this phone is very fast with sending any kind of messages and web browsing is significantly faster than previous phones i have used.', '\"nice quality build, unlike some cheap s*** out there.\"', 'this item is fantastic and works perfectly!', 'and i just love the colors!', 'w8       i is just superb.', '\"all i can do is whine on the internet, so here it goes.the more i use the thing the less i like it.\"', 'great charger.', 'this is essentially a communications tool that does not communicate.', 'works like a charm; it work the same as the one i got with the phone.', '\"i still maintain that monkeys shouldn\\'t make headphones, we just obviously don\\'t share enough dna to copy the design over to humans.\"', 'great value.', \"doesn't work at all.. i bougth it for my l7c and its not working.\", '\"the look of it is very sharp and the screen is nice and clear, with great graphics.\"', 'one thing i hate is the mode set button at the side.', 'excellent service!!!!!!!!.', 'thank you for wasting my money.', 'how can that be?the audio quality is poor.', 'the igo chargers and tips are really great.', 'the file browser offers all the options that one needs.handsfree is great.', 'superb phone on a great network.', '\"i connected my wife\\'s bluetooth,(motorola hs85    ) to my phone and it worked like a charm whether the phone was in my pocket or the case.\"', '\"i put the latest os on it (v   .   5g), and it now likes to slow to a crawl and lock up every once in a while.\"', '\"if you like a loud buzzing to override all your conversations, then this phone is for you!\"', \"i've had this bluetoooth headset for some time now and still not comfortable with the way it fits on the ear.\", 'the sound quality is good and functionality is awesome.', 'i recently had problems where i could not stay connected for more than         minutes before being disconnected.', 'incredible!.', 'design flaw?.', 'great phone!.', 'waste of    3 bucks.', '\"but when i check voice mail at night, the keypad backlight turns off a few seconds into the first message, and then i\\'m lost.\"', 'the replacement died in a few weeks.', 'any ring tone..overall good phone to buy..', 'lately they have been extremely nice and helpful on the phone.', 'i have had problems wit hit dropping signal and more.', 'not impressed.', \"you'll love how thin it is.\", 'bad choice.', '\"useless phone, simply deaf.\"', '\"the color is even prettier than i thought it would be, and the graphics are incredibly sharp.\"', 'all in all i think it was a good investment.', 'it makes very strange ticking noises before it ends the call.', 'the best electronics of the available fm transmitters.', '\"great headset, very impressed - h5        .\"', '\"the \"\"   .2\"\" mega pixel camera, being a part of a phone, is reasonably good7.\"', \"i've had this for nearly 2 years and it has worked great for me.\", 'good transmit audio.', 'i did not bother contacting the company for few dollar product but i learned the lesson that i should not have bought this form online anyway.', '\"if you hate earbugs, avoid this phone by all means.\"', 'great price also!', '\"the range is very decent, i\\'ve been able to roam around my house with the phone in the living room with no reception/sound quality issues.\"', 'fast service.', 'i would highly recommend this.', 'i would recommend this.', '\"i also didn\\'t like the \"\"on\"\" button, it felt like it would crack with use.\"', 'worst phone ever.', 'freezes frequently4.', \"it's kind of embarrassing to use because of how it looks and mostly it's embarrassing how child-like the company is.\", '\"simple, lightweight and great fit.\"', '\"all in all, i\\'d expected a better consumer experience from motorola.\"', \"there's a horrible tick sound in the background on all my calls that i have never experienced before.\", 'these are certainly very comfortable and functionality is decent.', \"i usually don't like headbands but this one is very lightweight & doesn't mess up my hair.\", \"i'm a bit disappointed.\", '\"i have had this phone for over a year now, and i will tell you, its not that great.\"', 'i ordered this for sony ericsson w8       i but i think it only worked once (thats when i first used it).', 'the battery is completely useless to me.', 'what a big waste of time.', \"don't waste your $$$ on this one.\", 'great sound and service.', 'really pleased with this product so far.', 'one of my favorite purchases ever.', 'best bluetooth on the market.', 'authentic leather with nice shine and comfort .i recommend you this case !!', 'i was very excited to get this headset because i thought it was really cute.', 'do not make the same mistake as me.', 'big disappointment with calendar sync.', 'the phone was unusable and was not new.', 'worst customer service ever.', 'it defeats the purpose of a bluetooth headset.', 'worth every penny.', 'excellent wallet type phone case.', 'nice headphones for the price and they work great!', 'internet is excrutiatingly slow.', '\"it is very comfortable to wear as well, which is probably the most important aspect about using a case.\"', '\"it\\'s fits like a glove and is strong, secure, and durable.\"', 'o my gosh the best phone i have ever had.', \"it's very attractive and appears to be of good quality.\", 'i love all the features and form factor.', 'this product had a strong rubber/petroleum smell that was unbearable after a while and caused me to return it', 'poor quality and service.', '\"the cable looks so thin and flimsy, it is scary.\"', 'great earpiece.', 'excellent hands free tool.', 'great for using with your home stereo.', 'good product - incredible value.', \"only had this a month but it's worked flawlessly so far.\", 'works great.', 'absolutel junk.', \"that one didn't work either.\", 'battery life is real good.', \"it's a great item.\", \"don't waste your money!.\", 'love this headset!', '\"not only will it drain your player, but may also potentially fry it.\"', 'worked perfectly!', \"unreliable - i'm giving up.\", 'reversible plug works great.', 'i wasted my little money with this earpiece.', 'very good phone.', '\"best of all is the rotating feature, very helpful.\"', 'comfort for our whole family.', '\"good product, good seller.\"', 'i love this bluetooth!', '\"first of all, it doesn\\'t wear well.\"', 'i am very impressed with this headset from plantronics.', 'i got it because it was so small and adorable.', 'great phone!.', \"i wouldn't recommend buying this product.\", 'piece of junk.', 'poorly contstruct hinge.', '\"this item is great, installed it, let it charged up overnite and it has been working good every since with no problems\"', 'great phone.', 'excellent phone.', 'do not purchase this phone.', 'the voice recognition thru the handset is excellent.', \"this is hands down the best phone i've ever had.\", '\"works great, when my cat attacked the phone he scratched the protective strip instead of destroying the screen.\"', 'this one works and was priced right.', 'customer service was terrible.', 'battery life still not long enough in motorola razor v3i.', 'now i know that i made a wise decision.', 'good price.', 'everything worked on the first try.the device was certainly engineered in a clever way and the construction feels good.', 'i received it quickly and it works great!!', 'has been working great.', '\"as many people complained, i found this headset\\'s microphone was very weak.\"', 'my 5-year old nokia 2   6     from tracfone holds the charge a lot better than this.', 'they do not care about the consumer one bit.', '\"this is a good battery, and it got here really fast.\"', 'the instruction manual is lacking.', 'also its slim enough to fit into my alarm clock docking station without removing the case.', 'phone now holds charge like it did when it was new.', 'the battery is unreliable as well as the service use antena.', \"it's uncomfortable and the sound quality is quite poor compared with the phone (razr) or with my previous wired headset (that plugged into an lg).\", 'this is definitely a must have if your state does not allow cell phone usage while driving.', 'i love this device.', 'i am also very happy with the price.', 'i ordered this product first and was unhappy with it immediately.', 'the ngage is still lacking in earbuds.', 'i was able to do voice dialing in the car with no problem.', '\"i have 2-3 bars on my cell phone when i am home, but you cant not hear anything.\"', '\"good item, low price.\"', '\"however-the riingtones are not the best, and neither are the games.\"', 'the plug did not work very well.', 'amazon sucks.', 'rip off---- over charge shipping.', 'very comfortable.', 'the battery is working well as a replacement for the original that came with the phone over 2 years ago.', 'the reception is excellent!', '\"it fits comfortably in either ear, the sound is clear and loud, and the charge lasts a couple of days.\"', '\"very clear, quality sound and you don\\'t have to mess with the sound on your ipod since you have the sound buttons on the headset.\"', 'obviously there is a problem with the adhesive.', 'very disappointing.', '\"it was an inexpensive piece, but i would still have expected better quality.\"', 'it is practically useless and did not add any kind of boost to my reception after i bought it.', 'excellent sound quality.', 'was not happy.', 'a piece of junk that broke after being on my phone for 2 days!!!', 'new battery works great in phone.', 'worst customer service.', '\"i\\'ve dropped my phone more times than i can say, even on concrete and my phone is still great (knock on wood!).\"', 'reception is terrible and full of static.', 'good audio quality.', 'this little device has transformed my organizational capability and made my life a whole lot easier.', '\"i was sitting in my vehicle, with the cradle on my belt, and the headset lost signal.\"', 'works like a charm.. works as advertised.', '\"comfortable, nice range, good battery life.\"', 'their network coverage in los angeles is horrible.', 'excellent starter wireless headset.', '\"the loudspeaker option is great, the bumpers with the lights is very ... appealing.\"', 'the only thing that i think could improve is the sound leaks out from the headset.', '\"first off the reception sucks, i have never had more than 2 bars, ever.\"', 'the phone gets extremely hot!', '\"the microphone also works well, but (according to people i have called) it applifies everything.\"', 'nice design and quality.', '\"also, if your phone is dropped, this case is not going to save it, specially when dropped face down.\"', '\"it is light, easy to use, and has very clear reception and transmission.\"', '\"bad fit, way too big.\"', 'it definitely was not as good as my s      .', 'awesome device.', 'waste of money.', '\"i had ordered a motorola data cable, got a very well finished and working product.\"', 'love this phone.', \"i was looking for this headset for a long time and now that i've got it i couldn't be happier.\", 'display is excellent and camera is as good as any from that year.', 'battery life is also great!', \"the worst phone i've ever had.... only had it for a few months.\", 'not a good item.. it worked for a while then started having problems in my auto reverse tape player.', 'this is so embarassing and also my ears hurt if i try to push the ear plug into my ear.', 'this is a very average phone with bad battery life that operates on a weak network.', '\"clear skype calls, long battery life, long range.\"', 'soyo technology sucks.', 'great hands free device.', '\"you can even take self portraits with the outside (exterior) display, very cool.\"', 'same problem as others have mentioned.', 'after trying many many handsfree gadgets this is the one that finally works well.', 'magical help.', 'the worst piece of crap ever along with the verizon customer service.', 'poor sound quality.', 'the best phone in market :).', 'it worked very well.', 'the company shipped my product very promptly and it works well.', 'this is a great deal.', '\"excellent product, i am very satisfied with the purchase.\"', 'i highly recommend these and encourage people to give them a try.', \"better than you'd expect.\", '\"using all earpieces, left or right, this thing will not stay on my ear.\"', 'great product and price.', '\"sounds good reasonably priced and effective, its that simple !\"', \"still waiting...... i'm sure this item would work well.. if i ever recieve it!\", 'what a disappointment', 'very prompt service.', 'excellent product for the price.', 'very pleased with this headset.', \"don't waste your money and time.\", 'i especially love the long battery life.', '\"it\\'s so stupid to have to keep buying new chargers, car chargers, cradles, headphones and car kits every time a new phone comes out.\"', 'works great.', 'plantronics bluetooth excelent buy.', 'i came over from verizon because cingulair has nicer cell phones.... the first thing i noticed was the really bad service.', 'i highly recommend this device to everyone!', 'jawbone era is awesome too!', 'we received a white colored battery that goes dead after a couple hoursthe original used to last a week - but still lasts longer than thereplacement', 'after a year the battery went completely dead on my headset.', '\"i have used several phone in two years, but this one is the best.\"', 'an awesome new look for fall 2            !.', \"this is the first phone i've had that has been so cheaply made.\", '\"att is not clear, sound is very distorted and you have to yell when you talk.\"', 'the plastic breaks really easy on this clip.', 'price is good too.', \"don't make the same mistake i did.\", 'oh and i forgot to also mention the weird color effect it has on your phone.', \"i'm using it with an iriver spinn (with case) and it fits fine.\", \"also the area where my unit broke).- i'm not too fond of the magnetic strap.\", '\"overall, i am psyched to have a phone which has all my appointments and contacts in and gets great reception.\"', '\"every thing on phone work perfectly, she like it.\"', '\"another note about this phone\\'s appearance is that it really looks rather bland, especially in the all black model.\"', \"it's really easy.\", 'fantastic earphones.', 'it finds my cell phone right away when i enter the car.', 'i highly recommend this modest priced cellular phone.', \"but it does get better reception and clarity than any phone i've had before.\", 'warning - stay away.', 'awsome device works great!!.', 'i used to talk on it for     -        /2 hours and the battery would be literally drained and dying.', '\"if you don\\'t find it, too bad, as again the unit comes with one earpad only.i would not recommend this to anyone.\"', 'very displeased.', '\"i might have gotten a defect, but i would not risk buying it again because of the built quality alone.\"', 'they made this case too small and is very difficult to install.', 'restored my phone to like new performance.', '\"i would recommend purchasing the jabra jx-        series 2 which works flawlessly with my moto q, go figure.\"', '\"i searched the internet, and found this one to be the best value.\"', 'does not fit.', 'very happy with this product.', '\"the screen size is big, key pad lit well enough, and the camera quality is excellent for a camera phone.\"', \"there's really nothing bad i can say about this headset.\", '\"i\\'m glad i found this product on amazon it is hard to find, it wasn\\'t high priced.\"', 'portable and it works.', '\"my colleague & i now get great reception.a little expensive, but performance is great.\"', \"i've also had problems with the phone reading the memory card in which i always turn it on and then off again.\", 'not good when wearing a hat or sunglasses.', 'timely shipment and quality product.', 'nice solid keyboard.', 'very well made and fits my surefire gx2 perfectly.', 'horrible phone.', 'bt5     battery junk!.', 'we would recommend these to others.', 'cant get the software to work with my computer.', 'disappointed!.', 'poor voice clarity.', 'the battery works great!', 'no buyers remorse on this one!.', 'very disappointed in accessoryone.', 'i find this inexcusable and so will probably be returning this phone and perhaps changing carriers.', '\"looks great and is strong.\"\"\"', '\"i have had tmobile service for 2 or 3 years now, and i am pretty happy with it.\"', 'the update procedure is difficult and cumbersome.', 'disappointment.. i hate anything that goes in my ear.', 'great software for motorolas.', 'very easy to use.', '\"uncomfortable in the ear, don\\'t use with lg vx99         (env).\"', 'the volume switch rocketed out of the unit to a destination unknown.', '\"it holds a charge for a long time, is reasonably comfortable under long-wearing conditions and the quality of sound is tremendous.\"', \"i'd like to return it.\", \"the keyboard is really worthwhile in usefulness and is sturdy enough i don't expect any problems.\", '\"verizon\\'s bills, however, are difficult to understand even though their pricing plans are simple.\"', '\"after charging overnight, these batteries work great.\"', \"you won't regret it!\", 'i love this phone!.', 'a disappointment.', 'its not user friendly.', 'unfortunately the ability to actually know you are receiving a call is a rather important feature and this phone is pitiful in that respect.', '\"then i exchanged for the same phone, even that had the same problem.\"', 'this results in the phone being either stuck at max volume or mute.', '\"it is super charged up for use as a small hybrid palmtop/camera/cellphone, and excels in those roles.\"', '\"i would definitely recommend the jabra bt25    v for those who are looking for comfort, clarity and a great price!\"', 'i had verizon 2 years ago and really liked their service.', 'pretty piece of junk.', 'plug was the wrong size.', 'works as described.', 'bad purchase.', 'well im satisfied.', '\"the bose noise cancelling is amazing, which is very important for a nyc commuter.\"', 'this battery is an excellent bargain!', 'defective crap.', 'i wear glasses and it fits fine with them.', '\"the sound quality for the device is unacceptable.unless you are in a really quiet area, you almost hear nothing.\"', 'i would not recommend this item to anyone.', 'the holster that arrived did not match the photo in the ad.', 'great...no problems at all!.', 'this frog phone charm is adorable and very eye catching.', 'you never know if you pushed it hard enough or the right number of times for the function you want or not.', 'the sound is clear and the people i talk to on it are amazed at the quality too.', 'i got the aluminum case for my new palm vx and it worked really well--it has protected my handheld perfectly so far.', '\"very good product, well made.\"', 'i am very impressed with the job that motorola did on the sturdiness of this phone.', '\"i received my orders well within the shipping timeframe, everything was in good working order and overall, i am very excited to have this source.\"', 'the phone is sturdy and waterproof.', 'i am not impressed with this and i would not recommend this item to anyone.', 'my only complaint is the standard sound volume is a little low even when turned up to 5(of 5)', 'thanks again to amazon for having the things i need for a good price!', 'i had to go to a store and bought a new nokia phone which is working great.', 'works great!.', 'really ugly.', '\"horrible, had to switch 3 times.\"', 'the noise shield is incrediable.', 'no real improvement.', 'razr battery - good buy.', 'keep up the good work amazon!!', 'they refuse to refund or replace.', \"unfortunately it's easy to accidentally activate them with the gentle-touch buttons if you accidentally touch the phone to your face while listening.\", 'great case and price!', 'all it took was one drop from about 6 inches above the kitchen counter and it was cracked.i am not impressed and i am not laughing.', '\"bluetooth range is good - a few days ago i left my phone in the trunk, got a call, and carried the conversation without a hitch.\"', '\"small, sleek, impressive looking, practical setup with ample storage in place.\"', 'the eargels channel the sound directly into your ear and seem to increase the sound volume and clarity.', 'none of the new ones have ever quite worked properly.', 'i am glad i purchased it.', \"i've missed numerous calls because of this reason.\", '\"perhaps my phone is defective, but people cannot hear me when i use this.\"', '\"sucked, most of the stuff does not work with my phone.\"', '\"no shifting, no bubbling, no peeling, not even a scratch, nothing!i couldn\\'t be more happier with my new one for the droid.\"', 'worst software ever used.... if i could give this zero stars i would.', 'trying to make a call on these is an exercise in frustration.', 'the case is a flimsy piece of plastic and has no front or side protection whatsoever.', '\"i own a jabra earset and was very happy with it, but the sound quality, especially outgoing, on this is better.\"', '\"i love the camera, it\\'s really pretty good quality.\"', 'thank you for such great service.', '\"the seller is very understanding and patient, i would definitely buy from them again.\"', \"it's aggravating!\", 'great product for the price!.', '\"i have purchased these for both family and friends, and all enjoy their clarity and ease of use\"', 'virgin wireless rocks and so does this cheap little phone!', '\"none of it works, just don\\'t buy it.\"', '\"muddy, low quality sound, and the casing around the wire\\'s insert was poorly super glued and slid off.\"', 'please dont waste your money.', '\"all in all, i\\'m quite satisfied with this purchase.\"', '\"if you are looking for a good quality motorola headset keep looking, this isn\\'t it.\"', 'yet plantronincs continues to use the same flawed charger design.', 'disapointing results.', 'cumbersome design.', '\"great it was new packaged nice works good, no problems and it came in less time then i expected!!!!\"', 'great product.', \"it's a piece of crap!\", '\"my experience was terrible..... this was my fourth bluetooth headset, and while it was much more comfortable than my last jabra (which i hated!!!\"', 'this fixes all the problems.', 'worst ever.', 'i am very happy', '\"i\\'ve had no trouble accessing the internet, downloading ringtones or performing any of the functions.\"', 'the battery life is highly unacceptable.', 'that company is a joke.', '\"it works great with a car charger, especially if you cannot plug in two adapters at the same time.\"', '\"verizon tech support walked my through a few procedures, none of which worked and i ended up having to do a hard re-set, wiping out all my data.\"', '\"it plays louder than any other speaker of this size; the price is so low that most would think the quality is lacking, however, it\\'s not.\"', 'better than expected.', '\"it feels poorly constructed, the menus are difficult to navigate, and the buttons are so recessed that it is difficult to push them.\"', 'battery is holding up well.', \"also difficult to put on.i'd recommend avoiding this product.\", '\"i only used it two days, and it wasn\\'t always easy to hear with.\"', 'i got the car charger and not even after a week the charger was broken...i went to plug it in and it started smoking.', 'sprint - terrible customer service.', 'they are so cool!', 'easy to use.', 'better than new.', '\"what possesed me to get this junk, i have no idea...\"', 'piece of trash.', 'a pretty good product.', 'this is a great phone!.', '\"for the price on amazon, it is an excellent product, which i would highly recommend.\"', '\"the real killer is the volume, and of course it breaking.\"', 'those phones are working just fine now.', 'i am more than happy with this product.', 'poor construction.', 'this is infuriating.', '\"overall, i would recommend this phone over the new walkman.\"', '\"it is cheap, and it feel and look just as cheap.\"', 'it fits my ear well and is comfortable on.', \"it doesn't work in europe or asia.\", \"clipping this to your belt will deffinitely make you feel like 5     cent's up-and-coming.\", 'i like design and look of jabra behing the ear headsets and 5    2     is pretty comfortible to wear 24 hours a day without pain in the ear.', 'i was amazed at the quick arrival of the two original lg cell phone batteries and and at a fraction of the price.', 'the worst phone from samsung...crap..... this crappy samsung e7   5.. is the worst i have ever seeen.', 'the charger worked for about a week and then completely stopped charging my phone.', 'poor product.', 'however i needed some better instructions.', 'you need two hands to operate the screen.this software interface is decade old and cannot compete with new software designs.', 'worked very well paired with a treo 7        w and as a skype headset on my pc (using a usb bluetooth transceiver).', '\"steer clear of this product and go with the genuine palm replacementr pens, which come in a three-pack.\"', 'do not buy do not buyit sucks', 'this is a great product..... sure beats using your fingers!.', '\"plus, i seriously do not believe it is worth its steep price point.\"', \"all the other cases i've tried normally fall apart after a few months but this one seems to be in for the long haul.\", \"don't make the same mistake that i did and please don't buy this phone.\", \"this phone might well be the worst i've ever had in any brand.\", 'case was more or less an extra that i originally put on but later discarded because it scratched my ear.', 'i recommend igo to anyone with different brand cell phones/mp3 players in the family.', \"don't bother - go to the store.\", '\"i posted more detailed comments under the grey or black phone, but i have the fire red and it\\'s a great color!\"', 'i did not have any problem with this item and would order it again if needed.', '\"not only did the software do a great job of this, i could also make my own ringtones form my existing cds without an internet connection.\"', \"im surprised this is a good quality car charger and there's not much reviews about it.\", 'these are fabulous!', '\"however, bt headsets are currently not good for real time games like first-person shooters since the audio delay messes me up.\"', 'i used bitpim (a free program you can find on the internet)to transfer data to the phone.the price of the cable was excellent.', 'disappointing accessory from a good manufacturer.', '\"performed awful -- muffled, tinny incoming sound and severe echo for those on the other end of the call.\"', '\"obviously they have a terrible customer service, so you get what you pay for.\"', '\"they do not last forever, but is not overly expensive to replace.easy to operate and the sound is much better than others i have tried.\"', '\"i contacted the company and they told me that, although the unit was still under warranty, if i couldn\\'t produce my receipt i was out of luck.\"', 'linksys should have some way to exchange a bad phone for a refurb unit or something!', 'phone is sturdy as all nokia bar phones are.', 'great phone.', '\"when i placed my treo into the case, not only was it not snug, but there was a lot of extra room on the sides.\"', \"i'm pleased.\", 'battery is terrible.', 'i found the product to be easy to set up and use.', 'the earpiece on this is too large or too heavy...it keeps falling out of my ear.', 'utter crap.. sound quality is terrible.', '\"the charger arrived within the promised timeframe, but it did not work.\"', '\"no ear loop needed, it\\'s tiny and the sound is great.\"', '\"finally, after three or four times the spring of the latch broke and i could not use it any longer on the visor.\"', '\"the handsfree part works fine, but then the car tries to download the address book, and the treo reboots.overall, i still rate this device high.\"', 'talk about useless customer service.', 'this does not fit the palm tungsten e2 and it broke the first time i tried to plug it in.', \"i'm happy about this purchase- good quality and low price.\", 'i love the look and feel of samsung flipphones.', 'its well-designed and very sharp -- the blue is a very nice color.', 'i could not recommend these more.', 'nice sound.', '\"looks good in the picture, but this case was a huge disappointment!!\"', 'setup went very smoothly.', 'its extremely slow and takes forever to do anything with it.', '\"a must study for anyone interested in the \"\"worst sins\"\" of industrial design.\"', '\"it is well made, easy to access the phone and has a handy, detachable belt clip.\"', '\"bluetooth does not work, phone locks up, screens just flash up and now it just makes calls randomly while in my pocket locked.\"', 'truly awful.', '\"it works fine on my motorola 325 cellphone, and a lot better than the worn-out battery did.\"', 'the volume for the ringer is real good (you have choices how loud).', 'camera color balance is awful.', '\"this product is clearly not ready for prime time, i don\\'t care how cool it looks, if you can\\'t tell a call is coming in it\\'s worthless.\"', 'i love the ringtones because they are so upbeat!', 'chinese forgeries abound!.', 'easy to pair with my samsung cell.', 'i would advise to not purchase this item it never worked very well.', 'too bad you have to pay up to $$$ a month for the service!', 'works well.', 'the nokia ca-42 usb cable did not work with my phone.', 'clear crisp sound.', '\"i have to use the smallest earpieces provided, but it stays on pretty well.\"', '\"the biggest complaint i have is, the battery drains superfast.\"', 'the design might be ergonomic in theory but i could not stand having these in my ear.', 'do not buy if you want to use the holster.', 'the phone can also take great pictures and even video clips.', \"it doesn't make you look cool.\", '\"because both ears are occupied, background is not distracting at all.\"', '\"comfortable fit - you need your headset to be comfortable for at least an hour at a time, if not for an entire day.\"', '\"also, the phone doesn\\'t seem to accept anything except cbr mp3s, preferably ripped by windows media player.\"', '\"* comes with a strong light that you can use to light up your camera shots, and even flash sos signals (seriously!\"', 'lightweight and works well.', 'so just beware.', 'i love this cable - it allows me to connect any mini-usb device to my pc.', 'this is cool because most cases are just open there allowing the screen to get all scratched up.', 'i bought this phone as a replacement for my startac and have regretted it since.', 'appears to actually outperform the original battery from china that came with my v325i.', '\"it lasts less than 3o minutes, if i actually try to use the phone.my wife has the same phone with the same problem.\"', 'poor quality.', '\"jabra ear gels \"\"r\"\" the best!.\"', 'not worth it.', 'the phone crashed completely and now i have to get it replaced.', '\"it quit working after i\\'d used it for about    8 months, so i just purchased another one because this is the best headset i\\'ve ever owned.\"', '\"unfortunately it will not recharge my iphone 4s, despite connecting it from multiple power sources (imac, external battery, wall outlet, etc).\"', 'it was a great phone.', 'if you simply want a small flip phone -- look elsewhere as the extra bells & whistles are mediocre.', '\"good value, works fine - power via usb, car, or wall outlet.\"', 'this is simply the best bluetooth headset for sound quality!', '\"in the span of an hour, i had two people exclaim \"\"whoa - is that the new phone on tv?!?\"', 'i have always used corded headsets and the freedom from the wireless is very helpful.', '\"other than that, the leather is nice and soft; the fit is very tight; the cut out for the face is a good shape.\"', 'after receiving and using the product for just 2 days it broke.', 'this product is great... it makes working a lot easier i can go to the copier while waiting on hold for something.', 't-mobile has the best customer service anywhere.', 'arrived quickly and much less expensive than others being sold.', 'we have tried 2 units and they both failed within 2 months.. pros', '\"provides good protection and looks classy, too.\"', 'krussel always good.', '\"the tracfonewebsite is user friendly and makes it easy toactivate, etc.\"', 'the design is very good.4.', 'i great reception all the time.', 'i would highly recommend this product.', '\"couldn\\'t use the unit with sunglasses, not good in texas!\"', 'it dit not work most of the time with my nokia 532    .', '\"bought mainly for the charger, which broke soon after purchasing.\"', '\"if you like a loud buzzing to override all your conversations, then this phone is for you!\"', 'fantastic buy and will get again for whatever my next phone is', 'this blueant supertooth hands-free phone speaker is awesome.', 'does not fit.', '.... item arrived quickly and works great with my metro pcs samsung sch-r45     slider phone and sony premium sound in ear plugs.', 'disappointing.', 'blue ant is easy to use.', 'cheap but hey it works.. was pleasantly suprised given the low cost of this item.', 'then a few days later the a puff of smoke came out of the phone while in use.', \"it's very convenient and simple to use - gets job done & makes the car ride so much smoother.\", 'the nano stated it.my son was dissapointed.', 'the sound quality is excellent as well.', 'its the best headset i have used.', 'would not reccommend.', 'they have been around for years and carries the highest quality of anti-glare screen protector that i have found to date.', 'this particular model would not work with my motorola q smartphone.', 'wont work right or atleast for me.', 'in addition it feels &amp; looks as if the phone is all lightweight cheap plastic.', '\"but now that it is \"\"out of warranty\"\" the same problems reoccure.bottom line... put your money somewhere else... cingular will not support it.\"', '\"i really wanted the plantronics 5        to be the right one, but it has too many issues for me.the good\"', 'great product.', 'crisp and clear.', 'after the first charge kept going dead after    2 minutes.', '\"very cheap plastic, creaks like an old wooden floor.\"', '\"i get absolutely horrible reception in my apartment, where with other phones i have not had this problem.\"', 'the reception has been generally good.', '\"excellent sound, battery life and inconspicuous to boot!.\"', 'great bluetooth!.', 'i highly recommend this case.', 'worthwhile.', 'this is a great deal.', '\"after my phone got to be about a year old, it\\'s been slowly breaking despite much care on my part.\"', 'i am sorry i made this purchase.', 'i bought these hoping i could make my bluetooth headset fit better but these things made it impossible to wear.', 'treo and t-mobile refused to replace it again and forced me to buy another phone without any kind of upgrade discount.', 'it was horrible!.', 'they work about 2 weeks then break.', 'it is simple to use and i like it.', '\"it\\'s a great tool for entertainment, communication, and data management.oh, be sure to use activesync 4.2 for optimal data synchronization results!\"', \"i can't use this case because the smell is disgusting.\", 'not what i wanted.', 'great phone.', \"i bought this battery with a coupon from amazon and i'm very happy with my purchase.\", '\"the internet access was fine, it the rare instance that it worked.\"', 'perfect for the ps3.', \"a good quality bargain.. i bought this after i bought a cheapy from big lots that sounded awful and people on the other end couldn't hear me.\", '$5     down the drain.', \"i tried talking real loud but shouting on the telephone gets old and i was still told it wasn't great.\", '\"good , works fine.\"', 'for the price this was a great deal.', '\"great price, too!\"', '\"if there is a wind, it is completely useless.\"', \"yes it's shiny on front side - and i love it!\", 'does not work.', '\"at first i thought i was grtting a good deal at $7.44, until i plugged it into my phone (v3c razr).\"', 'the reception through this headset is excellent.', '\"i have a verizon lg phone and they work well together, good reception and range that exceeds 2     feet line of sight.\"', 'improper description.... i had to return it.', '#    it works - #2 it is comfortable.', 'the jabra eargels fit my ears very well.', 'i checked everywhere and there is no feature for it which is really disappointing.', 'i would recommend it.', '\"that being said, for a phone, the camera is very nice; many cool effects to play with, and video is decent as well.\"', 'i have been very satisfied with this cell phone from day one.', \"they keep getting better and better (this is my third one and i've had numerous palms too).\", 'awkward to use and unreliable.', 'not as good as i had hoped.', 'good case!.', \"doesn't work.\", 'really good product.', 'unfortunately it did not work.', 'all three broke within two months of use.', '\"my father has the v265, and the battery is dying.\"', '\"however, the ear pads come off easily and after only one week i lost one.\"', '\"the calls drop, the phone comes on and off at will, the screen goes black and the worst of all it stops ringing intermittently.\"', '\"horrible, horrible protector.\"', \"i don't like this nokia either.\", '\"reaching for the bottom row is uncomfortable, and the send and end keys are not where i expect them to be.3.\"', 'i have bought this nokia cell phone a few weeks ago and it was a nightmare.', 'it would take too long to describe how bad my customer service experience has been with amazon.', 'the only very disappointing thing was there was no speakerphone!!!!', 'terrible.. my car will not accept this cassette.', '\"product is useless, since it does not have enough charging current to charge the 2 cellphones i was planning to use it with.\"', \"it's not what it says it is.\", 'used and dirty.', 'very unreliable service from t-mobile !', 'not good enough for the price.', 'it looks very nice.', '\"this is an excellent tool, especially when paired with your phone\\'s auto-answer.\"', \"i have read other's reviews here but i haven't had any problem with it.\", 'these products cover up the important light sensor above the ear outlet.', 'comfortable in my hand.', 'just does not work.', 'poor reliability.', '(it works!)', '\"terrible product, and waste of money!\"', 'it was a waste of my money.', 'so far it has worked like a charm.', '\"i have only had it for a few weeks, but so far, so good.\"', '\"but, in any case, the best part is, you can download these pictures to your laptop using ir, or even send pictures from your laptop to the phone.\"', 'would recommend this item.', \"it's been my choice headset for years.great sound; good volume; good noise cancellation.\", '\"nice case, feels good in your hands.\"', '\"just really good.. so far, probably the best bt headset i have ever had.\"', 'works fine.', 'i received my headset in good time and was happy with it.', 'i was very pleased to see that i could replace my well travled swivel holster for my blackberry flip.', 'my sister has one also and she loves it.', 'good quality.', \"this is by far the worst purchase i've made on amazon.\", 'excellent dual-purpose headset.', 'excellent!.', 'does not work for listening to music with the cingular 8   25.', '\"it seems completely secure, both holding on to my belt, and keeping the iphone inside.\"', '\"the bottowm line...another worthless, cheap gimmick from sprint.\"', 'having trouble with volume.', 'the only good thing was that it fits comfortably on small ears.', 'warning - do not buy!!.', '\"i am pairing this with my iphone, and i could not be happier with it so far.\"', '\"when it opens, the battery connection is broken and the device is turned off.\"', '\"i didn\\'t want the clip going over the top of my ear, causing discomfort.\"', 'best headset ever!!!.', \"don't trust their website and don't expect any helpful support.\", 'it was that loud.glad to say that the plantronics 5        maintains a flawless connection to my cell and with no static during normal use.', 'the speaker is of low quality so as making the ring tones sound very cheap.', '\"fits comfortably, came with three sizes of earbud tips.\"', 'excellent product for the price.', 'bad reception.', 'this product is very high quality chinese crap!!!!!!', 'it was quite comfortable in the ear.', 'great phone.', \"don't buy this product - it fails!.\", 'everything about this product is wrong.first', 'the pairing of the two devices was so easy it barely took a couple minutes before i started making calls with the voice dialing feature.', '\"this was utterly confusing at first, which caused me to lose a couple of very, very important contacts.\"', 'terrible phone holder.', 'the cutouts and buttons are placed perfectly.', 'i love being able to use one headset for both by land-line and cell.', 'problem is that the ear loops are made of weak material and break easily.', 'not nearly as good looking as the amazon picture makes it look.', '\"but despite these few flaws, this case is of exceptional quality and well worth the additional costs of owning an official oem product.\"', 'how stupid is that?', 'seller shipped quickly and much cheaper than the competitors.', '\"good show, samsung.\"', 'it always cuts out and makes a beep beep beep sound then says signal failed.', '\"my phone sounded ok ( not great - ok), but my wife\\'s phone was almost totally unintelligible, she couldn\\'t understand a word being said on it.\"', '\"while i managed to bend the leaf spring back in place, the metal now has enough stress that it will break on the next drop.\"', 'leopard print is wonderfully wild!.', 'works for me.', '\"saggy, floppy piece of junk.\"', 'much better than the hard plastic cases.', 'it also had a new problem.', 'happy so far!.', 'cool phone.', 'works good.', 'motorola finally got the voice quality of a bluetooth headset right.', '\"but it is great, i would really recommend it\"', \"makes it easier to keep up with my bluetooth when i'm not wearing it.\", 'as i said above....pretty useless!', 'this pair of headphones is the worst that i have ever had sound-wise.', '[...] down the drain because of a weak snap!', 'does not charge the cingular (att) 8525 phone.', '\"you get extra minutes so that you can carry out the call and not get cut off.\"\"\"', '\"however, after about a year, the fliptop started to get loose and wobbly and eventually my screen went black and i couldn\\'t receive and place calls.\"', 'the headset fulfills my requirements so i am happy with my purchase.', '\"i like the fact that it rests lightly against your ear, rather than inside.\"', 'a lot of websites have been rating this a very good phone and so do i.', 'i have tried these cables with my computer and my ipod and it works just fine.', '\"the mic there is a joke, and the volume is quite low.\"', 'i does not maintain a connection with the computer while it is on my lap.', 'it is easy to turn on and off when you are in the car and the volume controls are quite accessable.', '\"otherwise, easy to install and use, clear sound.\"', 'nice leather.', 'it is a joy to use.', 'very much disappointed with this company.', 'this is the phone to get for 2        5.... i just bought my s7       a and all i can say is wow!', 'just reading on the specs alone makes you say wow.', 'love it.. great armband.', 'i really like this product over the motorola because it is allot clearer on the ear piece and the mic.', '\"however, the keypads are so tinny that i sometimes reach the wrong buttons.\"', \"i exchanged the sony ericson z5        a for this and i'm pretty happy with that decision.\", 'i was very impressed with the price of the cases.', 'also makes it easier to hold on to.', '\"i use this product in a motor control center where there is a lot of high voltage humming from the equipment, and it works great!\"', \"it's pretty easy.\", 'i cannot make calls at certain places.', '\"however, my girl was complain that some time the phone doesn\\'t wake up like normal phone does.\"', 'beautiful styling though.', 'this company charge me a restocking fee and still not given me my refund back.', \"i'm trying to return it for a refund.\", 'i plugged it in only to find out not a darn thing worked.', 'excellent product.', 'earbud piece breaks easily.', 'lousy product.', \"this phone tries very hard to do everything but fails at it's very ability to be a phone.\", 'it is the best charger i have seen on the market yet.', '\":-)oh, the charger seems to work fine.\"', 'it fits so securely that the ear hook does not even need to be used and the sound is better directed through your ear canal.', 'not enough volume.', 'echo problem....very unsatisfactory', 'you could only take 2 videos at a time and the quality was very poor.', \"don't waste your money.\", 'adapter does not provide enough charging current.', '\"there was so much hype over this phone that i assumed it was the best, my mistake.\"', 'you also cannot take pictures with it in the case because the lense is covered.', 'phone falls out easily.', '\"it didn\\'t work, people can not hear me when i talk.\"', 'the text messaging feature is really tricky to use.', \"i'm really disappointed all i have now is a charger that doesn't work.\", 'painful on the ear.', 'disappointed.', 'the screen does get smudged easily because it touches your ear and face.', 'what a piece of junk.. i lose more calls on this phone.', 'item does not match picture.', 'the only thing that disappoint me is the infra red port (irda).', '\"you can not answer calls with the unit, never worked once!\"']\n"
     ]
    }
   ],
   "source": [
    "print(len(comment))\n",
    "print(comment)"
   ]
  },
  {
   "cell_type": "code",
   "execution_count": 21,
   "metadata": {},
   "outputs": [],
   "source": [
    "from sklearn.model_selection import train_test_split\n",
    "\n",
    "X_train, x_test, Y_train, Y_test = train_test_split(comment, label, random_state=0)"
   ]
  },
  {
   "cell_type": "code",
   "execution_count": 23,
   "metadata": {},
   "outputs": [
    {
     "data": {
      "text/plain": [
       "'the pairing of the two devices was so easy it barely took a couple minutes before i started making calls with the voice dialing feature.'"
      ]
     },
     "execution_count": 23,
     "metadata": {},
     "output_type": "execute_result"
    }
   ],
   "source": [
    "X_train[0]"
   ]
  },
  {
   "cell_type": "code",
   "execution_count": 26,
   "metadata": {},
   "outputs": [
    {
     "data": {
      "text/plain": [
       "652"
      ]
     },
     "execution_count": 26,
     "metadata": {},
     "output_type": "execute_result"
    }
   ],
   "source": [
    "len(X_train)"
   ]
  },
  {
   "cell_type": "code",
   "execution_count": 27,
   "metadata": {},
   "outputs": [],
   "source": [
    "# apply the bag-of-words approach\n",
    "# to get the vocabulary generated after fitting CountVectorizer to the trainig dataset\n",
    "\n",
    "from sklearn.feature_extraction.text import CountVectorizer\n",
    "\n",
    "vect = CountVectorizer().fit(X_train)"
   ]
  },
  {
   "cell_type": "code",
   "execution_count": 31,
   "metadata": {},
   "outputs": [
    {
     "data": {
      "text/plain": [
       "1370"
      ]
     },
     "execution_count": 31,
     "metadata": {},
     "output_type": "execute_result"
    }
   ],
   "source": [
    "# Have a look on the vocabulary\n",
    "len(vect.get_feature_names()[::])"
   ]
  },
  {
   "cell_type": "code",
   "execution_count": 32,
   "metadata": {},
   "outputs": [
    {
     "data": {
      "text/plain": [
       "<652x1370 sparse matrix of type '<class 'numpy.int64'>'\n",
       "\twith 5917 stored elements in Compressed Sparse Row format>"
      ]
     },
     "execution_count": 32,
     "metadata": {},
     "output_type": "execute_result"
    }
   ],
   "source": [
    "X_train_vectorized = vect.transform(X_train)\n",
    "\n",
    "X_train_vectorized"
   ]
  },
  {
   "cell_type": "code",
   "execution_count": null,
   "metadata": {},
   "outputs": [],
   "source": [
    "#Training the Logistic Regression"
   ]
  },
  {
   "cell_type": "code",
   "execution_count": 33,
   "metadata": {},
   "outputs": [
    {
     "name": "stderr",
     "output_type": "stream",
     "text": [
      "C:\\Users\\Aayush Verma\\Anaconda3\\lib\\site-packages\\sklearn\\linear_model\\logistic.py:433: FutureWarning: Default solver will be changed to 'lbfgs' in 0.22. Specify a solver to silence this warning.\n",
      "  FutureWarning)\n"
     ]
    },
    {
     "data": {
      "text/plain": [
       "LogisticRegression(C=1.0, class_weight=None, dual=False, fit_intercept=True,\n",
       "          intercept_scaling=1, max_iter=100, multi_class='warn',\n",
       "          n_jobs=None, penalty='l2', random_state=None, solver='warn',\n",
       "          tol=0.0001, verbose=0, warm_start=False)"
      ]
     },
     "execution_count": 33,
     "metadata": {},
     "output_type": "execute_result"
    }
   ],
   "source": [
    "from sklearn.linear_model import LogisticRegression\n",
    "\n",
    "model = LogisticRegression()\n",
    "model.fit(X_train_vectorized, Y_train)"
   ]
  },
  {
   "cell_type": "code",
   "execution_count": 34,
   "metadata": {},
   "outputs": [
    {
     "data": {
      "text/plain": [
       "0.8418522267206477"
      ]
     },
     "execution_count": 34,
     "metadata": {},
     "output_type": "execute_result"
    }
   ],
   "source": [
    "# Make prediction on X_test after transforming X_test dataset\n",
    "from sklearn.metrics import roc_auc_score\n",
    "# Any words in X_test that didn't appeared in X_train will be ignored \n",
    "predictions = model.predict(vect.transform(x_test))\n",
    "roc_auc_score(Y_test, predictions)"
   ]
  },
  {
   "cell_type": "code",
   "execution_count": 36,
   "metadata": {},
   "outputs": [
    {
     "name": "stdout",
     "output_type": "stream",
     "text": [
      "Smallest Coefs:\n",
      "['not' 'poor' 'disappointed' 'bad' 'worst' 'disappointing' 'waste'\n",
      " 'problem' 'unreliable' 'horrible']\n",
      "\n",
      "Largest Coefs: \n",
      "['great' 'good' 'excellent' 'works' 'best' 'love' 'well' 'easy' 'nice'\n",
      " 'recommend']\n"
     ]
    }
   ],
   "source": [
    "import pandas as pd\n",
    "import numpy as np\n",
    "# get the feature names as numpy array\n",
    "feature_names = np.array(vect.get_feature_names())\n",
    "\n",
    "# Sort the coefficients from the model\n",
    "sorted_coef_index = model.coef_[0].argsort()\n",
    "\n",
    "# Find the 10 smallest and 10 largest coefficients\n",
    "# The 10 largest coefficients are being indexed using [:-11:-1] \n",
    "# so the list returned is in order of largest to smallest\n",
    "print('Smallest Coefs:\\n{}\\n'.format(feature_names[sorted_coef_index[:10]]))\n",
    "print('Largest Coefs: \\n{}'.format(feature_names[sorted_coef_index[:-11:-1]]))"
   ]
  },
  {
   "cell_type": "markdown",
   "metadata": {},
   "source": [
    "Tfidf (Term frequency inverse document frequency) It allow us to weight terms based on how important they are to a document\n",
    "\n",
    "High weight is given to terms that appears often in a particular document, but don't appear often on the corpus\n",
    "\n",
    "Features with low Tfidf are either commonly used across all the documents or rarely used and only occur in long documents\n",
    "\n",
    "And features with high Tfidf are vice-versa"
   ]
  },
  {
   "cell_type": "code",
   "execution_count": 37,
   "metadata": {},
   "outputs": [],
   "source": [
    "from sklearn.feature_extraction.text import TfidfVectorizer\n",
    "# min_df = 5 : remove any vocabulary that appear in fewer than 5 documents\n",
    "\n",
    "vect = TfidfVectorizer(min_df=5).fit(X_train)"
   ]
  },
  {
   "cell_type": "code",
   "execution_count": 38,
   "metadata": {},
   "outputs": [
    {
     "data": {
      "text/plain": [
       "233"
      ]
     },
     "execution_count": 38,
     "metadata": {},
     "output_type": "execute_result"
    }
   ],
   "source": [
    "len(vect.get_feature_names())"
   ]
  },
  {
   "cell_type": "code",
   "execution_count": 39,
   "metadata": {},
   "outputs": [
    {
     "name": "stdout",
     "output_type": "stream",
     "text": [
      "AUC:  0.8247300944669365\n"
     ]
    },
    {
     "name": "stderr",
     "output_type": "stream",
     "text": [
      "C:\\Users\\Aayush Verma\\Anaconda3\\lib\\site-packages\\sklearn\\linear_model\\logistic.py:433: FutureWarning: Default solver will be changed to 'lbfgs' in 0.22. Specify a solver to silence this warning.\n",
      "  FutureWarning)\n"
     ]
    }
   ],
   "source": [
    "X_train_vectorized = vect.transform(X_train)\n",
    "\n",
    "model = LogisticRegression()\n",
    "model.fit(X_train_vectorized, Y_train)\n",
    "\n",
    "predictions = model.predict(vect.transform(x_test))\n",
    "\n",
    "print('AUC: ', roc_auc_score(Y_test, predictions))"
   ]
  },
  {
   "cell_type": "code",
   "execution_count": 40,
   "metadata": {},
   "outputs": [
    {
     "name": "stdout",
     "output_type": "stream",
     "text": [
      "Smallest tfidf:\n",
      "['tried' 'but' 'screen' 'never' 'few' 'now' 'first' 'years' 'found'\n",
      " 'verizon']\n",
      "\n",
      "Largest tfidf: \n",
      "['up' 'really' 'horrible' 'very' 'great' 'excellent' 'piece' 'crap'\n",
      " 'pleased' 'disappointed']\n"
     ]
    }
   ],
   "source": [
    "feature_names = np.array(vect.get_feature_names())\n",
    "\n",
    "sorted_tfidf_index = X_train_vectorized.max(0).toarray()[0].argsort()\n",
    "\n",
    "print('Smallest tfidf:\\n{}\\n'.format(feature_names[sorted_tfidf_index[:10]]))\n",
    "print('Largest tfidf: \\n{}'.format(feature_names[sorted_tfidf_index[:-11:-1]]))"
   ]
  },
  {
   "cell_type": "code",
   "execution_count": 41,
   "metadata": {},
   "outputs": [
    {
     "name": "stdout",
     "output_type": "stream",
     "text": [
      "Smallest Coefs:\n",
      "['not' 'poor' 'disappointed' 'bad' 'worst' 'problem' 'waste'\n",
      " 'disappointing' 'money' 'there']\n",
      "\n",
      "Largest Coefs: \n",
      "['great' 'good' 'works' 'excellent' 'well' 'love' 'best' 'nice' 'easy'\n",
      " 'recommend']\n"
     ]
    }
   ],
   "source": [
    "sorted_coef_index = model.coef_[0].argsort()\n",
    "\n",
    "print('Smallest Coefs:\\n{}\\n'.format(feature_names[sorted_coef_index[:10]]))\n",
    "print('Largest Coefs: \\n{}'.format(feature_names[sorted_coef_index[:-11:-1]]))"
   ]
  },
  {
   "cell_type": "code",
   "execution_count": 42,
   "metadata": {},
   "outputs": [
    {
     "name": "stdout",
     "output_type": "stream",
     "text": [
      "[0 0]\n"
     ]
    }
   ],
   "source": [
    "# These reviews are treated the same by our current model\n",
    "print(model.predict(vect.transform(['not an issue, phone is working',\n",
    "                                    'an issue, phone is not working'])))"
   ]
  },
  {
   "cell_type": "markdown",
   "metadata": {},
   "source": [
    "n-grams"
   ]
  },
  {
   "cell_type": "code",
   "execution_count": 43,
   "metadata": {},
   "outputs": [
    {
     "data": {
      "text/plain": [
       "340"
      ]
     },
     "execution_count": 43,
     "metadata": {},
     "output_type": "execute_result"
    }
   ],
   "source": [
    "# Fit the CountVectorizer to the training data specifiying a minimum \n",
    "# document frequency of 5 and extracting 1-grams and 2-grams\n",
    "vect = CountVectorizer(min_df=5, ngram_range=(1,2)).fit(X_train)\n",
    "\n",
    "X_train_vectorized = vect.transform(X_train)\n",
    "\n",
    "len(vect.get_feature_names())"
   ]
  },
  {
   "cell_type": "code",
   "execution_count": 44,
   "metadata": {},
   "outputs": [
    {
     "name": "stdout",
     "output_type": "stream",
     "text": [
      "AUC:  0.8286943319838057\n"
     ]
    },
    {
     "name": "stderr",
     "output_type": "stream",
     "text": [
      "C:\\Users\\Aayush Verma\\Anaconda3\\lib\\site-packages\\sklearn\\linear_model\\logistic.py:433: FutureWarning: Default solver will be changed to 'lbfgs' in 0.22. Specify a solver to silence this warning.\n",
      "  FutureWarning)\n"
     ]
    }
   ],
   "source": [
    "model = LogisticRegression()\n",
    "model.fit(X_train_vectorized, Y_train)\n",
    "\n",
    "predictions = model.predict(vect.transform(x_test))\n",
    "\n",
    "print('AUC: ', roc_auc_score(Y_test, predictions))"
   ]
  },
  {
   "cell_type": "code",
   "execution_count": 45,
   "metadata": {},
   "outputs": [
    {
     "name": "stdout",
     "output_type": "stream",
     "text": [
      "Smallest Coefs:\n",
      "['not' 'poor' 'disappointed' 'bad' 'disappointing' 'problem' 'there'\n",
      " 'worst' 'after' 'plastic']\n",
      "\n",
      "Largest Coefs: \n",
      "['excellent' 'good' 'great' 'works' 'well' 'love' 'nice' 'worked' 'best'\n",
      " 'sturdy']\n"
     ]
    }
   ],
   "source": [
    "feature_names = np.array(vect.get_feature_names())\n",
    "\n",
    "sorted_coef_index = model.coef_[0].argsort()\n",
    "\n",
    "print('Smallest Coefs:\\n{}\\n'.format(feature_names[sorted_coef_index[:10]]))\n",
    "print('Largest Coefs: \\n{}'.format(feature_names[sorted_coef_index[:-11:-1]]))"
   ]
  },
  {
   "cell_type": "code",
   "execution_count": 56,
   "metadata": {},
   "outputs": [
    {
     "name": "stdout",
     "output_type": "stream",
     "text": [
      "[0 0]\n"
     ]
    }
   ],
   "source": [
    "# These reviews are now correctly identified\n",
    "print(model.predict(vect.transform(['not an issue, phone is working',\n",
    "                                    'an issue, phone is not working'])))"
   ]
  },
  {
   "cell_type": "code",
   "execution_count": 55,
   "metadata": {},
   "outputs": [
    {
     "name": "stdout",
     "output_type": "stream",
     "text": [
      "[1 1]\n"
     ]
    }
   ],
   "source": [
    "print(model.predict(vect.transform(['the product is good ',\n",
    "                                    'The phone is amazeing.'])))"
   ]
  },
  {
   "cell_type": "code",
   "execution_count": null,
   "metadata": {},
   "outputs": [],
   "source": []
  },
  {
   "cell_type": "code",
   "execution_count": null,
   "metadata": {},
   "outputs": [],
   "source": []
  },
  {
   "cell_type": "code",
   "execution_count": 59,
   "metadata": {},
   "outputs": [
    {
     "name": "stdout",
     "output_type": "stream",
     "text": [
      "['This line is a, good but sometimes it fluctuates but is the Best line.\\n', \"This line is a, bad didn't line.\\n\", '\\n', 'This line is a, neutral line.\\n', '\\n', 'It works good but it goes slow sometimes but its a very good phone I love it\\n', '\\n']\n"
     ]
    }
   ],
   "source": [
    "testfile = get_lines('qwerty.txt')\n",
    "print(testfile)"
   ]
  },
  {
   "cell_type": "code",
   "execution_count": 62,
   "metadata": {},
   "outputs": [
    {
     "name": "stdout",
     "output_type": "stream",
     "text": [
      "[1 0 1 0 1 1 1]\n"
     ]
    }
   ],
   "source": [
    "print(model.predict(vect.transform(testfile)))\n",
    "    "
   ]
  },
  {
   "cell_type": "code",
   "execution_count": 63,
   "metadata": {},
   "outputs": [
    {
     "ename": "NameError",
     "evalue": "name 'Bag_of_Words' is not defined",
     "output_type": "error",
     "traceback": [
      "\u001b[1;31m---------------------------------------------------------------------------\u001b[0m",
      "\u001b[1;31mNameError\u001b[0m                                 Traceback (most recent call last)",
      "\u001b[1;32m<ipython-input-63-92c2ebdf5478>\u001b[0m in \u001b[0;36m<module>\u001b[1;34m()\u001b[0m\n\u001b[0;32m      6\u001b[0m \u001b[0mother_bag\u001b[0m \u001b[1;33m=\u001b[0m \u001b[1;33m[\u001b[0m\u001b[1;33m]\u001b[0m\u001b[1;33m\u001b[0m\u001b[0m\n\u001b[0;32m      7\u001b[0m \u001b[1;33m\u001b[0m\u001b[0m\n\u001b[1;32m----> 8\u001b[1;33m \u001b[1;32mfor\u001b[0m \u001b[0mi\u001b[0m \u001b[1;32min\u001b[0m \u001b[0mrange\u001b[0m\u001b[1;33m(\u001b[0m\u001b[1;36m0\u001b[0m\u001b[1;33m,\u001b[0m\u001b[0mlen\u001b[0m\u001b[1;33m(\u001b[0m\u001b[0mBag_of_Words\u001b[0m\u001b[1;33m)\u001b[0m\u001b[1;33m)\u001b[0m\u001b[1;33m:\u001b[0m\u001b[1;33m\u001b[0m\u001b[0m\n\u001b[0m\u001b[0;32m      9\u001b[0m     \u001b[1;32mif\u001b[0m \u001b[1;33m[\u001b[0m\u001b[0mBag_of_Words\u001b[0m\u001b[1;33m[\u001b[0m\u001b[0mi\u001b[0m\u001b[1;33m]\u001b[0m\u001b[1;33m]\u001b[0m \u001b[1;32min\u001b[0m \u001b[0mpositive_list\u001b[0m\u001b[1;33m:\u001b[0m\u001b[1;33m\u001b[0m\u001b[0m\n\u001b[0;32m     10\u001b[0m         \u001b[0mpositive_score\u001b[0m \u001b[1;33m=\u001b[0m \u001b[0mpositive_score\u001b[0m \u001b[1;33m+\u001b[0m\u001b[1;36m1\u001b[0m\u001b[1;33m\u001b[0m\u001b[0m\n",
      "\u001b[1;31mNameError\u001b[0m: name 'Bag_of_Words' is not defined"
     ]
    }
   ],
   "source": [
    "positive_score = 0\n",
    "negative_score = 0\n",
    "\n",
    "pos_bag = []\n",
    "neg_bag = []\n",
    "other_bag = []\n",
    "\n",
    "for i in range(0,len(Bag_of_Words)):\n",
    "    if [Bag_of_Words[i]] in positive_list:\n",
    "        positive_score = positive_score +1\n",
    "        pos_bag.append(Bag_of_Words[i])\n",
    "\n",
    "        \n",
    "    if [Bag_of_Words[i]] in negative_list:\n",
    "        negative_score = negative_score +1\n",
    "        neg_bag.append(Bag_of_Words[i])\n",
    "        \n",
    "    else:\n",
    "        other_bag.append(Bag_of_Words[i])\n",
    "        \n",
    "print(negative_score)\n",
    "print(positive_score)\n",
    "\n",
    "other_score = (len(Bag_of_Words)-(positive_score+negative_score))\n",
    "print(other_score)\n",
    "\n",
    "#print(pos_bag, neg_bag)\n",
    "\n",
    "positive_polarity = (positive_score/(positive_score + negative_score))\n",
    "print(\"Positive Polarity: \", positive_polarity)\n",
    "negative_polarity = (negative_score/(positive_score + negative_score))\n",
    "print(\"Negative Polarity: \", negative_polarity)\n",
    "\n",
    "percent_pos = (positive_score/(positive_score+negative_score+other_score) * 100)\n",
    "percent_neg = (negative_score/(positive_score+negative_score+other_score) * 100)\n",
    "percent_other = (other_score/(positive_score+negative_score+other_score) * 100)\n",
    "print(int(percent_neg),\"%\", int(percent_pos),\"%\", int(percent_other),\"%\")\n"
   ]
  },
  {
   "cell_type": "code",
   "execution_count": null,
   "metadata": {},
   "outputs": [],
   "source": []
  }
 ],
 "metadata": {
  "kernelspec": {
   "display_name": "Python 3",
   "language": "python",
   "name": "python3"
  },
  "language_info": {
   "codemirror_mode": {
    "name": "ipython",
    "version": 3
   },
   "file_extension": ".py",
   "mimetype": "text/x-python",
   "name": "python",
   "nbconvert_exporter": "python",
   "pygments_lexer": "ipython3",
   "version": "3.6.4"
  }
 },
 "nbformat": 4,
 "nbformat_minor": 2
}
