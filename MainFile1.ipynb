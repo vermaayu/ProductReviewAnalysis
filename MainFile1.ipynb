{
 "cells": [
  {
   "cell_type": "code",
   "execution_count": 8,
   "metadata": {},
   "outputs": [],
   "source": [
    "import nltk\n",
    "#nltk.download('stopwords') \n",
    "from nltk.corpus import stopwords\n",
    "\n",
    "from nltk.tokenize import word_tokenize\n",
    "\n",
    "from sklearn.feature_extraction.text import CountVectorizer"
   ]
  },
  {
   "cell_type": "code",
   "execution_count": 9,
   "metadata": {},
   "outputs": [],
   "source": [
    "def get_lines_from_file(filename):\n",
    "    \"\"\"Return a list of rstripped lines from filename\n",
    "\n",
    "    Returns an empty list if the file doesn't exist.\"\"\"\n",
    "\n",
    "    try:\n",
    "        with open(filename) as f:\n",
    "            return [line.rstrip() for line in f if line.rstrip()]\n",
    "    except IOError:\n",
    "        print(\"Error File does not exist\")\n",
    "        return []\n",
    "\n",
    "comment_list = get_lines_from_file('qwerty.txt')\n"
   ]
  },
  {
   "cell_type": "code",
   "execution_count": 10,
   "metadata": {},
   "outputs": [
    {
     "data": {
      "text/plain": [
       "['This line is a, good line.',\n",
       " 'This line is a, bad line.',\n",
       " 'This line is a, neutral line.']"
      ]
     },
     "execution_count": 10,
     "metadata": {},
     "output_type": "execute_result"
    }
   ],
   "source": [
    "comment_list\n"
   ]
  },
  {
   "cell_type": "code",
   "execution_count": null,
   "metadata": {},
   "outputs": [],
   "source": []
  },
  {
   "cell_type": "code",
   "execution_count": null,
   "metadata": {},
   "outputs": [],
   "source": []
  },
  {
   "cell_type": "code",
   "execution_count": 11,
   "metadata": {},
   "outputs": [
    {
     "name": "stdout",
     "output_type": "stream",
     "text": [
      "['this line is a, good line.', 'this line is a, bad line.', 'this line is a, neutral line.']\n"
     ]
    }
   ],
   "source": [
    "for i in range(0,len(comment_list)):\n",
    "    comment_list[i] = comment_list[i].lower()\n",
    "    \n",
    "print(comment_list)"
   ]
  },
  {
   "cell_type": "code",
   "execution_count": null,
   "metadata": {},
   "outputs": [],
   "source": []
  },
  {
   "cell_type": "code",
   "execution_count": null,
   "metadata": {},
   "outputs": [],
   "source": []
  },
  {
   "cell_type": "code",
   "execution_count": 12,
   "metadata": {},
   "outputs": [],
   "source": [
    "stop_wordset = set(stopwords.words('english'))\n",
    "stop_wordset.add('.')\n",
    "stop_wordset.add(',')\n",
    "                                    #Add more symbols and numbers to remove from the data.\n",
    "#stop_wordset                       #180 wordset"
   ]
  },
  {
   "cell_type": "code",
   "execution_count": 22,
   "metadata": {},
   "outputs": [
    {
     "name": "stdout",
     "output_type": "stream",
     "text": [
      "['this', 'line', 'is', 'a', ',', 'good', 'line', '.']\n",
      "['line', 'good', 'line']\n",
      "------------------------------\n",
      "['this', 'line', 'is', 'a', ',', 'bad', 'line', '.']\n",
      "['line', 'bad', 'line']\n",
      "------------------------------\n",
      "['this', 'line', 'is', 'a', ',', 'neutral', 'line', '.']\n",
      "['line', 'neutral', 'line']\n",
      "------------------------------\n",
      "******************************\n",
      "['line', 'good', 'line', 'line', 'bad', 'line', 'line', 'neutral', 'line']\n"
     ]
    }
   ],
   "source": [
    "                                                                 #from nltk.tokenize import word_tokenize\n",
    "\n",
    "Tokens = []                                                     #List of words for CountVectorization\n",
    "\n",
    "for i in range(0,len(comment_list)):\n",
    "    \n",
    "    word_tokens = word_tokenize(comment_list[i]) \n",
    "  \n",
    "    filtered_sentence = [w for w in word_tokens if not w in stop_wordset] \n",
    "  \n",
    "    filtered_sentence = [] \n",
    "  \n",
    "    for w in word_tokens: \n",
    "        if w not in stop_wordset: \n",
    "            filtered_sentence.append(w)\n",
    "            Tokens.append(w)\n",
    "    print(word_tokens)\n",
    "    print(filtered_sentence)\n",
    "    print('-'*30)\n",
    "    \n",
    "\n",
    "print('*'*30)\n",
    "print(Tokens)"
   ]
  },
  {
   "cell_type": "code",
   "execution_count": 23,
   "metadata": {},
   "outputs": [
    {
     "data": {
      "text/plain": [
       "['line', 'good', 'bad', 'neutral']"
      ]
     },
     "execution_count": 23,
     "metadata": {},
     "output_type": "execute_result"
    }
   ],
   "source": [
    "vectorizer = CountVectorizer(min_df=0, lowercase=False)     #from sklearn.feature_extraction.text import CountVectorizer\n",
    "vectorizer.fit(Tokens)\n",
    "Bag_of_Words = list(vectorizer.vocabulary_)\n",
    "Bag_of_Words"
   ]
  },
  {
   "cell_type": "code",
   "execution_count": 15,
   "metadata": {},
   "outputs": [],
   "source": [
    "import csv"
   ]
  },
  {
   "cell_type": "code",
   "execution_count": 16,
   "metadata": {},
   "outputs": [
    {
     "data": {
      "text/plain": [
       "2006"
      ]
     },
     "execution_count": 16,
     "metadata": {},
     "output_type": "execute_result"
    }
   ],
   "source": [
    "positive_list = []\n",
    "\n",
    "with open('pos_words.csv', 'r') as csvFile:\n",
    "    reader = csv.reader(csvFile)\n",
    "    for row in reader:\n",
    "        positive_list.append(row)\n",
    "\n",
    "#print(positive_list)\n",
    "csvFile.close()\n",
    "len(positive_list)"
   ]
  },
  {
   "cell_type": "code",
   "execution_count": 17,
   "metadata": {},
   "outputs": [
    {
     "data": {
      "text/plain": [
       "4783"
      ]
     },
     "execution_count": 17,
     "metadata": {},
     "output_type": "execute_result"
    }
   ],
   "source": [
    "negative_list = []\n",
    "\n",
    "with open('neg_words.csv', 'r') as csvFile:\n",
    "    reader = csv.reader(csvFile)\n",
    "    for row in reader:\n",
    "        negative_list.append(row)\n",
    "\n",
    "#print(negative_list)\n",
    "csvFile.close()\n",
    "len(negative_list)"
   ]
  },
  {
   "cell_type": "code",
   "execution_count": 18,
   "metadata": {},
   "outputs": [
    {
     "name": "stdout",
     "output_type": "stream",
     "text": [
      "1\n",
      "1\n",
      "2\n",
      "Positive Polarity:  0.5\n",
      "Negative Polarity:  0.5\n",
      "25 % 25 % 50 %\n"
     ]
    }
   ],
   "source": [
    "positive_score = 0\n",
    "negative_score = 0\n",
    "\n",
    "pos_bag = []\n",
    "neg_bag = []\n",
    "other_bag = []\n",
    "\n",
    "for i in range(0,len(Bag_of_Words)):\n",
    "    if [Bag_of_Words[i]] in positive_list:\n",
    "        positive_score = positive_score +1\n",
    "        pos_bag.append(Bag_of_Words[i])\n",
    "\n",
    "        \n",
    "    if [Bag_of_Words[i]] in negative_list:\n",
    "        negative_score = negative_score +1\n",
    "        neg_bag.append(Bag_of_Words[i])\n",
    "        \n",
    "    else:\n",
    "        other_bag.append(Bag_of_Words[i])\n",
    "        \n",
    "print(negative_score)\n",
    "print(positive_score)\n",
    "\n",
    "other_score = (len(Bag_of_Words)-(positive_score+negative_score))\n",
    "print(other_score)\n",
    "\n",
    "\n",
    "\n",
    "\n",
    "positive_polarity = (positive_score/(positive_score + negative_score))\n",
    "print(\"Positive Polarity: \", positive_polarity)\n",
    "negative_polarity = (negative_score/(positive_score + negative_score))\n",
    "print(\"Negative Polarity: \", negative_polarity)\n",
    "\n",
    "percent_pos = (positive_score/(positive_score+negative_score+other_score) * 100)\n",
    "percent_neg = (negative_score/(positive_score+negative_score+other_score) * 100)\n",
    "percent_other = (other_score/(positive_score+negative_score+other_score) * 100)\n",
    "print(int(percent_neg),\"%\", int(percent_pos),\"%\", int(percent_other),\"%\")\n"
   ]
  },
  {
   "cell_type": "code",
   "execution_count": 19,
   "metadata": {},
   "outputs": [
    {
     "name": "stderr",
     "output_type": "stream",
     "text": [
      "[========================================================================] 100%\n"
     ]
    }
   ],
   "source": [
    "import progressbar\n",
    "from time import sleep\n",
    "bar = progressbar.ProgressBar(maxval=20, widgets=[progressbar.Bar('=', '[', ']'), ' ', progressbar.Percentage()])\n",
    "bar.start()\n",
    "for i in range(20):\n",
    "    bar.update(i+1)\n",
    "    sleep(0.1)\n",
    "bar.finish()"
   ]
  },
  {
   "cell_type": "code",
   "execution_count": 20,
   "metadata": {},
   "outputs": [
    {
     "name": "stdout",
     "output_type": "stream",
     "text": [
      "[====================] 100%"
     ]
    }
   ],
   "source": [
    "from time import sleep\n",
    "import sys\n",
    "\n",
    "for i in range(21):\n",
    "    sys.stdout.write('\\r')\n",
    "    # the exact output you're looking for:\n",
    "    sys.stdout.write(\"[%-20s] %d%%\" % ('='*i, 5*i))\n",
    "    sys.stdout.flush()\n",
    "    sleep(0.25)"
   ]
  },
  {
   "cell_type": "code",
   "execution_count": null,
   "metadata": {},
   "outputs": [],
   "source": []
  }
 ],
 "metadata": {
  "kernelspec": {
   "display_name": "Python 3",
   "language": "python",
   "name": "python3"
  },
  "language_info": {
   "codemirror_mode": {
    "name": "ipython",
    "version": 3
   },
   "file_extension": ".py",
   "mimetype": "text/x-python",
   "name": "python",
   "nbconvert_exporter": "python",
   "pygments_lexer": "ipython3",
   "version": "3.6.4"
  }
 },
 "nbformat": 4,
 "nbformat_minor": 2
}
