{
 "cells": [
  {
   "cell_type": "code",
   "execution_count": 40,
   "metadata": {},
   "outputs": [],
   "source": [
    "import nltk\n",
    "#nltk.download('stopwords') \n",
    "from nltk.corpus import stopwords\n",
    "stop_wordset = set(stopwords.words('english'))\n",
    "stop_wordset.add('.')\n",
    "stop_wordset.add(',')\n",
    "\n",
    "from nltk.tokenize import word_tokenize\n",
    "\n",
    "from sklearn.feature_extraction.text import CountVectorizer\n",
    "\n",
    "import csv"
   ]
  },
  {
   "cell_type": "code",
   "execution_count": 41,
   "metadata": {},
   "outputs": [
    {
     "name": "stdout",
     "output_type": "stream",
     "text": [
      "2006\n",
      "4783\n"
     ]
    }
   ],
   "source": [
    "positive_list = []\n",
    "\n",
    "with open('pos_words.csv', 'r') as csvFile:\n",
    "    reader = csv.reader(csvFile)\n",
    "    for row in reader:\n",
    "        positive_list.append(row)\n",
    "\n",
    "#print(positive_list)\n",
    "csvFile.close()\n",
    "print(len(positive_list))\n",
    "\n",
    "\n",
    "negative_list = []\n",
    "\n",
    "with open('neg_words.csv', 'r') as csvFile:\n",
    "    reader = csv.reader(csvFile)\n",
    "    for row in reader:\n",
    "        negative_list.append(row)\n",
    "\n",
    "#print(negative_list)\n",
    "csvFile.close()\n",
    "print(len(negative_list))\n",
    "\n",
    "neutral_list = []\n"
   ]
  },
  {
   "cell_type": "code",
   "execution_count": 42,
   "metadata": {},
   "outputs": [],
   "source": [
    "def get_lines(filename):\n",
    "    try:\n",
    "        with open(filename) as f:\n",
    "            return [line.rstrip() for line in f if line.rstrip()]\n",
    "    except IOError:\n",
    "        print(\"Error File Does Not Exist\")\n",
    "        return []\n",
    "    \n",
    "def stopW(ls):\n",
    "    word_tokens = word_tokenize(ls) \n",
    "  \n",
    "    filtered_sentence = [w for w in word_tokens if not w in stop_wordset] \n",
    "  \n",
    "    filtered_sentence = [] \n",
    "  \n",
    "    for w in word_tokens: \n",
    "        if w not in stop_wordset: \n",
    "            filtered_sentence.append(w)\n",
    "            #Tokens.append(w)\n",
    "    return filtered_sentence\n",
    "\n",
    "def vector(ls):\n",
    "    vectorizer = CountVectorizer(min_df=0, lowercase=False)     #from sklearn.feature_extraction.text import CountVectorizer\n",
    "    vectorizer.fit(ls)\n",
    "    return list(vectorizer.vocabulary_)\n",
    "\n",
    "def check(ls):\n",
    "    positive_score = 0\n",
    "    negative_score = 0\n",
    "\n",
    "    pos_bag = []\n",
    "    neg_bag = []\n",
    "    other_bag = []\n",
    "\n",
    "    for i in range(0,len(ls)):\n",
    "        if [ls[i]] in positive_list:\n",
    "            positive_score = positive_score +1\n",
    "            pos_bag.append(ls[i])\n",
    "\n",
    "        \n",
    "        if [ls[i]] in negative_list:\n",
    "            negative_score = negative_score +1\n",
    "            neg_bag.append(ls[i])\n",
    "        \n",
    "        else:\n",
    "            other_bag.append(ls[i])\n",
    "\n",
    "    other_score = (len(ls)-(positive_score+negative_score))\n",
    "    \n",
    "    try:\n",
    "        positive_polarity = (positive_score/(positive_score + negative_score))\n",
    "        print(\"Positive Polarity: \", positive_polarity)\n",
    "        negative_polarity = (negative_score/(positive_score + negative_score))\n",
    "        print(\"Negative Polarity: \", negative_polarity)\n",
    "        if(positive_polarity >= negative_polarity):\n",
    "            print(1)\n",
    "            return 1\n",
    "        else:\n",
    "            print(0)\n",
    "            return 0\n",
    "\n",
    "    #percent_pos = (positive_score/(positive_score+negative_score+other_score) * 100)\n",
    "    #percent_neg = (negative_score/(positive_score+negative_score+other_score) * 100)\n",
    "    #percent_other = (other_score/(positive_score+negative_score+other_score) * 100)\n",
    "    #print(int(percent_neg),\"%\", int(percent_pos),\"%\", int(percent_other),\"%\")\n",
    "    except ZeroDivisionError:\n",
    "        print(\"Neutral Line\")\n",
    "        #neutral_list.append(ls[i])\n",
    "   \n",
    "    "
   ]
  },
  {
   "cell_type": "code",
   "execution_count": 43,
   "metadata": {},
   "outputs": [],
   "source": [
    "Lines = get_lines('qwerty.txt')"
   ]
  },
  {
   "cell_type": "code",
   "execution_count": 44,
   "metadata": {},
   "outputs": [
    {
     "name": "stdout",
     "output_type": "stream",
     "text": [
      "['line', 'good', 'sometimes', 'fluctuates', 'best']\n",
      "Positive Polarity:  1.0\n",
      "Negative Polarity:  0.0\n",
      "1\n",
      "******************************\n",
      "['line', 'bad']\n",
      "Positive Polarity:  0.0\n",
      "Negative Polarity:  1.0\n",
      "0\n",
      "******************************\n",
      "['line', 'neutral']\n",
      "Neutral Line\n",
      "******************************\n",
      "['works', 'good', 'goes', 'slow', 'sometimes', 'phone', 'love']\n",
      "Positive Polarity:  0.75\n",
      "Negative Polarity:  0.25\n",
      "1\n",
      "******************************\n"
     ]
    }
   ],
   "source": [
    "for i in range(0,len(Lines)):\n",
    "    Lines[i] = Lines[i].lower()\n",
    "    fil_lines = stopW(Lines[i])\n",
    "    vec_lines = vector(fil_lines)\n",
    "    print(vec_lines)\n",
    "    pole = check(vec_lines)\n",
    "    print(\"*\"*30)"
   ]
  },
  {
   "cell_type": "code",
   "execution_count": null,
   "metadata": {},
   "outputs": [],
   "source": []
  }
 ],
 "metadata": {
  "kernelspec": {
   "display_name": "Python 3",
   "language": "python",
   "name": "python3"
  },
  "language_info": {
   "codemirror_mode": {
    "name": "ipython",
    "version": 3
   },
   "file_extension": ".py",
   "mimetype": "text/x-python",
   "name": "python",
   "nbconvert_exporter": "python",
   "pygments_lexer": "ipython3",
   "version": "3.6.4"
  }
 },
 "nbformat": 4,
 "nbformat_minor": 2
}
